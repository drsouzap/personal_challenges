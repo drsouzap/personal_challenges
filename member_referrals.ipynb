{
 "cells": [
  {
   "cell_type": "markdown",
   "id": "cee723bc",
   "metadata": {},
   "source": [
    "# Data Scientist Coding Exercise"
   ]
  },
  {
   "cell_type": "markdown",
   "id": "b1f4088b",
   "metadata": {},
   "source": [
    "The CEO has come to your desk and explained that we want to increase signups from our referral scheme. As part of this effort, we are keen to understand at what point in the member lifecycle members refer other people. \n",
    "\n",
    "This exercise contains 2 files:\n",
    "that contain information on our customers and their referral behaviour:\n",
    "\n",
    "📑 The Customer Info CSV contains information on customers and metadata for each customer. It is a representative sample of the whole customer database\n",
    "\n",
    "📑 The Referral Info CSV is a log of sign-ups we have received from the referral channel\n",
    "\n",
    "❓ Use this information to answer the questions below:\n",
    "1. When do members refer?\n",
    "\n",
    "2. Does the channel members are acquired from significantly impact how they refer? \n",
    "\n",
    "3. We can send an email to members to invite them to refer their friends. We can choose when, and to whom, we send the emails. How would you suggest we proceed?"
   ]
  },
  {
   "cell_type": "code",
   "execution_count": 1,
   "id": "c434ea9f",
   "metadata": {},
   "outputs": [],
   "source": [
    "# Import necessary tools\n",
    "import pandas as pd\n",
    "import numpy as np\n",
    "import seaborn as sns\n",
    "import matplotlib.pyplot as plt\n",
    "import datetime\n",
    "from statsmodels.stats.proportion import proportions_ztest"
   ]
  },
  {
   "cell_type": "code",
   "execution_count": 2,
   "id": "2321d6c7",
   "metadata": {},
   "outputs": [
    {
     "data": {
      "text/html": [
       "<div>\n",
       "<style scoped>\n",
       "    .dataframe tbody tr th:only-of-type {\n",
       "        vertical-align: middle;\n",
       "    }\n",
       "\n",
       "    .dataframe tbody tr th {\n",
       "        vertical-align: top;\n",
       "    }\n",
       "\n",
       "    .dataframe thead th {\n",
       "        text-align: right;\n",
       "    }\n",
       "</style>\n",
       "<table border=\"1\" class=\"dataframe\">\n",
       "  <thead>\n",
       "    <tr style=\"text-align: right;\">\n",
       "      <th></th>\n",
       "      <th>customer_id</th>\n",
       "      <th>sign_up_date</th>\n",
       "      <th>sign_up_channel</th>\n",
       "    </tr>\n",
       "  </thead>\n",
       "  <tbody>\n",
       "    <tr>\n",
       "      <th>0</th>\n",
       "      <td>2543</td>\n",
       "      <td>2021-04-26</td>\n",
       "      <td>Price Comparison Website</td>\n",
       "    </tr>\n",
       "    <tr>\n",
       "      <th>1</th>\n",
       "      <td>2181</td>\n",
       "      <td>2021-07-24</td>\n",
       "      <td>Referral</td>\n",
       "    </tr>\n",
       "    <tr>\n",
       "      <th>2</th>\n",
       "      <td>2399</td>\n",
       "      <td>2020-10-11</td>\n",
       "      <td>Bulb Website</td>\n",
       "    </tr>\n",
       "    <tr>\n",
       "      <th>3</th>\n",
       "      <td>674</td>\n",
       "      <td>2021-04-04</td>\n",
       "      <td>Referral</td>\n",
       "    </tr>\n",
       "    <tr>\n",
       "      <th>4</th>\n",
       "      <td>2332</td>\n",
       "      <td>2021-09-05</td>\n",
       "      <td>Price Comparison Website</td>\n",
       "    </tr>\n",
       "  </tbody>\n",
       "</table>\n",
       "</div>"
      ],
      "text/plain": [
       "   customer_id sign_up_date           sign_up_channel\n",
       "0         2543   2021-04-26  Price Comparison Website\n",
       "1         2181   2021-07-24                  Referral\n",
       "2         2399   2020-10-11              Bulb Website\n",
       "3          674   2021-04-04                  Referral\n",
       "4         2332   2021-09-05  Price Comparison Website"
      ]
     },
     "execution_count": 2,
     "metadata": {},
     "output_type": "execute_result"
    }
   ],
   "source": [
    "# Import customer info file\n",
    "customer = pd.read_csv(\"./data/180601_Customer_Info.csv\")\n",
    "customer.head()"
   ]
  },
  {
   "cell_type": "code",
   "execution_count": 3,
   "id": "635e255f",
   "metadata": {},
   "outputs": [
    {
     "data": {
      "text/html": [
       "<div>\n",
       "<style scoped>\n",
       "    .dataframe tbody tr th:only-of-type {\n",
       "        vertical-align: middle;\n",
       "    }\n",
       "\n",
       "    .dataframe tbody tr th {\n",
       "        vertical-align: top;\n",
       "    }\n",
       "\n",
       "    .dataframe thead th {\n",
       "        text-align: right;\n",
       "    }\n",
       "</style>\n",
       "<table border=\"1\" class=\"dataframe\">\n",
       "  <thead>\n",
       "    <tr style=\"text-align: right;\">\n",
       "      <th></th>\n",
       "      <th>referral_date</th>\n",
       "      <th>referrer_customer_id</th>\n",
       "      <th>sign_up_customer_id</th>\n",
       "    </tr>\n",
       "  </thead>\n",
       "  <tbody>\n",
       "    <tr>\n",
       "      <th>0</th>\n",
       "      <td>2021-07-18</td>\n",
       "      <td>795</td>\n",
       "      <td>1771</td>\n",
       "    </tr>\n",
       "    <tr>\n",
       "      <th>1</th>\n",
       "      <td>2021-04-12</td>\n",
       "      <td>577</td>\n",
       "      <td>1510</td>\n",
       "    </tr>\n",
       "    <tr>\n",
       "      <th>2</th>\n",
       "      <td>2021-07-07</td>\n",
       "      <td>868</td>\n",
       "      <td>1858</td>\n",
       "    </tr>\n",
       "    <tr>\n",
       "      <th>3</th>\n",
       "      <td>2021-10-25</td>\n",
       "      <td>801</td>\n",
       "      <td>1778</td>\n",
       "    </tr>\n",
       "    <tr>\n",
       "      <th>4</th>\n",
       "      <td>2021-08-15</td>\n",
       "      <td>690</td>\n",
       "      <td>1637</td>\n",
       "    </tr>\n",
       "  </tbody>\n",
       "</table>\n",
       "</div>"
      ],
      "text/plain": [
       "  referral_date  referrer_customer_id  sign_up_customer_id\n",
       "0    2021-07-18                   795                 1771\n",
       "1    2021-04-12                   577                 1510\n",
       "2    2021-07-07                   868                 1858\n",
       "3    2021-10-25                   801                 1778\n",
       "4    2021-08-15                   690                 1637"
      ]
     },
     "execution_count": 3,
     "metadata": {},
     "output_type": "execute_result"
    }
   ],
   "source": [
    "# Import customer info file\n",
    "referral = pd.read_csv(\"./data/180601_Referrals_Info.csv\")\n",
    "referral.head()"
   ]
  },
  {
   "cell_type": "code",
   "execution_count": 4,
   "id": "86b1cc99",
   "metadata": {},
   "outputs": [
    {
     "name": "stdout",
     "output_type": "stream",
     "text": [
      "------------------ Customer file ------------------\n",
      "<class 'pandas.core.frame.DataFrame'>\n",
      "RangeIndex: 1699 entries, 0 to 1698\n",
      "Data columns (total 3 columns):\n",
      " #   Column           Non-Null Count  Dtype \n",
      "---  ------           --------------  ----- \n",
      " 0   customer_id      1699 non-null   int64 \n",
      " 1   sign_up_date     1699 non-null   object\n",
      " 2   sign_up_channel  1699 non-null   object\n",
      "dtypes: int64(1), object(2)\n",
      "memory usage: 39.9+ KB\n",
      "None\n",
      "------------------ Referral file ------------------\n",
      "<class 'pandas.core.frame.DataFrame'>\n",
      "RangeIndex: 1000 entries, 0 to 999\n",
      "Data columns (total 3 columns):\n",
      " #   Column                Non-Null Count  Dtype \n",
      "---  ------                --------------  ----- \n",
      " 0   referral_date         1000 non-null   object\n",
      " 1   referrer_customer_id  1000 non-null   int64 \n",
      " 2   sign_up_customer_id   1000 non-null   int64 \n",
      "dtypes: int64(2), object(1)\n",
      "memory usage: 23.6+ KB\n",
      "None\n"
     ]
    }
   ],
   "source": [
    "# Show information about files\n",
    "print(\"------------------ Customer file ------------------\")\n",
    "print(customer.info())\n",
    "\n",
    "print(\"------------------ Referral file ------------------\")\n",
    "print(referral.info())"
   ]
  },
  {
   "cell_type": "markdown",
   "id": "f81ff987",
   "metadata": {},
   "source": [
    "✅ There are no missing values in the files."
   ]
  },
  {
   "cell_type": "code",
   "execution_count": 5,
   "id": "cc66eaa2",
   "metadata": {},
   "outputs": [
    {
     "name": "stdout",
     "output_type": "stream",
     "text": [
      " Customer file's shape after dropping duplicates (1699, 3)\n",
      " Referral file's shape after dropping duplicates (1000, 3)\n"
     ]
    }
   ],
   "source": [
    "#Drop duplicates of files\n",
    "customer.drop_duplicates()\n",
    "print(f\" Customer file's shape after dropping duplicates {customer.shape}\")\n",
    "referral.drop_duplicates()\n",
    "print(f\" Referral file's shape after dropping duplicates {referral.shape}\")"
   ]
  },
  {
   "cell_type": "markdown",
   "id": "5a085cf8",
   "metadata": {},
   "source": [
    "✅ No duplicates were found on the files"
   ]
  },
  {
   "cell_type": "code",
   "execution_count": 6,
   "id": "6dae88c3",
   "metadata": {},
   "outputs": [
    {
     "data": {
      "text/html": [
       "<div>\n",
       "<style scoped>\n",
       "    .dataframe tbody tr th:only-of-type {\n",
       "        vertical-align: middle;\n",
       "    }\n",
       "\n",
       "    .dataframe tbody tr th {\n",
       "        vertical-align: top;\n",
       "    }\n",
       "\n",
       "    .dataframe thead th {\n",
       "        text-align: right;\n",
       "    }\n",
       "</style>\n",
       "<table border=\"1\" class=\"dataframe\">\n",
       "  <thead>\n",
       "    <tr style=\"text-align: right;\">\n",
       "      <th></th>\n",
       "      <th>customer_id</th>\n",
       "      <th>sign_up_date</th>\n",
       "      <th>sign_up_channel</th>\n",
       "      <th>referral_date</th>\n",
       "      <th>referrer_customer_id</th>\n",
       "      <th>sign_up_customer_id</th>\n",
       "    </tr>\n",
       "  </thead>\n",
       "  <tbody>\n",
       "    <tr>\n",
       "      <th>0</th>\n",
       "      <td>674</td>\n",
       "      <td>2021-04-04</td>\n",
       "      <td>Referral</td>\n",
       "      <td>2021-04-04</td>\n",
       "      <td>674</td>\n",
       "      <td>1618</td>\n",
       "    </tr>\n",
       "    <tr>\n",
       "      <th>1</th>\n",
       "      <td>468</td>\n",
       "      <td>2021-06-10</td>\n",
       "      <td>Referral</td>\n",
       "      <td>2021-07-18</td>\n",
       "      <td>468</td>\n",
       "      <td>1382</td>\n",
       "    </tr>\n",
       "    <tr>\n",
       "      <th>2</th>\n",
       "      <td>837</td>\n",
       "      <td>2021-07-09</td>\n",
       "      <td>Referral</td>\n",
       "      <td>2021-07-18</td>\n",
       "      <td>837</td>\n",
       "      <td>1823</td>\n",
       "    </tr>\n",
       "    <tr>\n",
       "      <th>3</th>\n",
       "      <td>253</td>\n",
       "      <td>2021-01-10</td>\n",
       "      <td>Bulb Website</td>\n",
       "      <td>2021-06-19</td>\n",
       "      <td>253</td>\n",
       "      <td>1141</td>\n",
       "    </tr>\n",
       "    <tr>\n",
       "      <th>4</th>\n",
       "      <td>219</td>\n",
       "      <td>2021-04-04</td>\n",
       "      <td>Bulb Website</td>\n",
       "      <td>2021-09-15</td>\n",
       "      <td>219</td>\n",
       "      <td>1106</td>\n",
       "    </tr>\n",
       "    <tr>\n",
       "      <th>...</th>\n",
       "      <td>...</td>\n",
       "      <td>...</td>\n",
       "      <td>...</td>\n",
       "      <td>...</td>\n",
       "      <td>...</td>\n",
       "      <td>...</td>\n",
       "    </tr>\n",
       "    <tr>\n",
       "      <th>827</th>\n",
       "      <td>332</td>\n",
       "      <td>2021-07-18</td>\n",
       "      <td>Referral</td>\n",
       "      <td>2021-07-22</td>\n",
       "      <td>332</td>\n",
       "      <td>1396</td>\n",
       "    </tr>\n",
       "    <tr>\n",
       "      <th>828</th>\n",
       "      <td>332</td>\n",
       "      <td>2021-07-18</td>\n",
       "      <td>Referral</td>\n",
       "      <td>2021-12-06</td>\n",
       "      <td>332</td>\n",
       "      <td>1225</td>\n",
       "    </tr>\n",
       "    <tr>\n",
       "      <th>829</th>\n",
       "      <td>704</td>\n",
       "      <td>2021-01-29</td>\n",
       "      <td>Referral</td>\n",
       "      <td>2021-02-01</td>\n",
       "      <td>704</td>\n",
       "      <td>1654</td>\n",
       "    </tr>\n",
       "    <tr>\n",
       "      <th>830</th>\n",
       "      <td>820</td>\n",
       "      <td>2021-07-17</td>\n",
       "      <td>Referral</td>\n",
       "      <td>2021-09-05</td>\n",
       "      <td>820</td>\n",
       "      <td>1802</td>\n",
       "    </tr>\n",
       "    <tr>\n",
       "      <th>831</th>\n",
       "      <td>722</td>\n",
       "      <td>2020-02-21</td>\n",
       "      <td>Bulb Website</td>\n",
       "      <td>2021-07-24</td>\n",
       "      <td>722</td>\n",
       "      <td>1679</td>\n",
       "    </tr>\n",
       "  </tbody>\n",
       "</table>\n",
       "<p>832 rows × 6 columns</p>\n",
       "</div>"
      ],
      "text/plain": [
       "     customer_id sign_up_date sign_up_channel referral_date  \\\n",
       "0            674   2021-04-04        Referral    2021-04-04   \n",
       "1            468   2021-06-10        Referral    2021-07-18   \n",
       "2            837   2021-07-09        Referral    2021-07-18   \n",
       "3            253   2021-01-10    Bulb Website    2021-06-19   \n",
       "4            219   2021-04-04    Bulb Website    2021-09-15   \n",
       "..           ...          ...             ...           ...   \n",
       "827          332   2021-07-18        Referral    2021-07-22   \n",
       "828          332   2021-07-18        Referral    2021-12-06   \n",
       "829          704   2021-01-29        Referral    2021-02-01   \n",
       "830          820   2021-07-17        Referral    2021-09-05   \n",
       "831          722   2020-02-21    Bulb Website    2021-07-24   \n",
       "\n",
       "     referrer_customer_id  sign_up_customer_id  \n",
       "0                     674                 1618  \n",
       "1                     468                 1382  \n",
       "2                     837                 1823  \n",
       "3                     253                 1141  \n",
       "4                     219                 1106  \n",
       "..                    ...                  ...  \n",
       "827                   332                 1396  \n",
       "828                   332                 1225  \n",
       "829                   704                 1654  \n",
       "830                   820                 1802  \n",
       "831                   722                 1679  \n",
       "\n",
       "[832 rows x 6 columns]"
      ]
     },
     "execution_count": 6,
     "metadata": {},
     "output_type": "execute_result"
    }
   ],
   "source": [
    "#Combining data frames\n",
    "combined = pd.merge(customer, referral, left_on='customer_id', right_on='referrer_customer_id')\n",
    "combined"
   ]
  },
  {
   "cell_type": "code",
   "execution_count": 7,
   "id": "d3e25987",
   "metadata": {},
   "outputs": [
    {
     "name": "stdout",
     "output_type": "stream",
     "text": [
      "<class 'pandas.core.frame.DataFrame'>\n",
      "Int64Index: 832 entries, 0 to 831\n",
      "Data columns (total 6 columns):\n",
      " #   Column                Non-Null Count  Dtype         \n",
      "---  ------                --------------  -----         \n",
      " 0   customer_id           832 non-null    int64         \n",
      " 1   sign_up_date          832 non-null    datetime64[ns]\n",
      " 2   sign_up_channel       832 non-null    object        \n",
      " 3   referral_date         832 non-null    datetime64[ns]\n",
      " 4   referrer_customer_id  832 non-null    int64         \n",
      " 5   sign_up_customer_id   832 non-null    int64         \n",
      "dtypes: datetime64[ns](2), int64(3), object(1)\n",
      "memory usage: 45.5+ KB\n"
     ]
    }
   ],
   "source": [
    "# Converting dates into datetimes\n",
    "combined[\"referral_date\"] = pd.to_datetime(combined[\"referral_date\"])\n",
    "combined[\"sign_up_date\"] = pd.to_datetime(combined[\"sign_up_date\"])\n",
    "combined.info()"
   ]
  },
  {
   "cell_type": "markdown",
   "id": "72835386",
   "metadata": {},
   "source": [
    "## When do members refer?"
   ]
  },
  {
   "cell_type": "code",
   "execution_count": 8,
   "id": "cdbe8e2e",
   "metadata": {},
   "outputs": [
    {
     "data": {
      "text/html": [
       "<div>\n",
       "<style scoped>\n",
       "    .dataframe tbody tr th:only-of-type {\n",
       "        vertical-align: middle;\n",
       "    }\n",
       "\n",
       "    .dataframe tbody tr th {\n",
       "        vertical-align: top;\n",
       "    }\n",
       "\n",
       "    .dataframe thead th {\n",
       "        text-align: right;\n",
       "    }\n",
       "</style>\n",
       "<table border=\"1\" class=\"dataframe\">\n",
       "  <thead>\n",
       "    <tr style=\"text-align: right;\">\n",
       "      <th></th>\n",
       "      <th>customer_id</th>\n",
       "      <th>sign_up_date</th>\n",
       "      <th>sign_up_channel</th>\n",
       "      <th>referral_date</th>\n",
       "      <th>referrer_customer_id</th>\n",
       "      <th>sign_up_customer_id</th>\n",
       "      <th>Referal_time(Days)</th>\n",
       "    </tr>\n",
       "  </thead>\n",
       "  <tbody>\n",
       "    <tr>\n",
       "      <th>0</th>\n",
       "      <td>674</td>\n",
       "      <td>2021-04-04</td>\n",
       "      <td>Referral</td>\n",
       "      <td>2021-04-04</td>\n",
       "      <td>674</td>\n",
       "      <td>1618</td>\n",
       "      <td>0</td>\n",
       "    </tr>\n",
       "    <tr>\n",
       "      <th>1</th>\n",
       "      <td>468</td>\n",
       "      <td>2021-06-10</td>\n",
       "      <td>Referral</td>\n",
       "      <td>2021-07-18</td>\n",
       "      <td>468</td>\n",
       "      <td>1382</td>\n",
       "      <td>38</td>\n",
       "    </tr>\n",
       "    <tr>\n",
       "      <th>2</th>\n",
       "      <td>837</td>\n",
       "      <td>2021-07-09</td>\n",
       "      <td>Referral</td>\n",
       "      <td>2021-07-18</td>\n",
       "      <td>837</td>\n",
       "      <td>1823</td>\n",
       "      <td>9</td>\n",
       "    </tr>\n",
       "    <tr>\n",
       "      <th>3</th>\n",
       "      <td>253</td>\n",
       "      <td>2021-01-10</td>\n",
       "      <td>Bulb Website</td>\n",
       "      <td>2021-06-19</td>\n",
       "      <td>253</td>\n",
       "      <td>1141</td>\n",
       "      <td>160</td>\n",
       "    </tr>\n",
       "    <tr>\n",
       "      <th>4</th>\n",
       "      <td>219</td>\n",
       "      <td>2021-04-04</td>\n",
       "      <td>Bulb Website</td>\n",
       "      <td>2021-09-15</td>\n",
       "      <td>219</td>\n",
       "      <td>1106</td>\n",
       "      <td>164</td>\n",
       "    </tr>\n",
       "    <tr>\n",
       "      <th>...</th>\n",
       "      <td>...</td>\n",
       "      <td>...</td>\n",
       "      <td>...</td>\n",
       "      <td>...</td>\n",
       "      <td>...</td>\n",
       "      <td>...</td>\n",
       "      <td>...</td>\n",
       "    </tr>\n",
       "    <tr>\n",
       "      <th>827</th>\n",
       "      <td>332</td>\n",
       "      <td>2021-07-18</td>\n",
       "      <td>Referral</td>\n",
       "      <td>2021-07-22</td>\n",
       "      <td>332</td>\n",
       "      <td>1396</td>\n",
       "      <td>4</td>\n",
       "    </tr>\n",
       "    <tr>\n",
       "      <th>828</th>\n",
       "      <td>332</td>\n",
       "      <td>2021-07-18</td>\n",
       "      <td>Referral</td>\n",
       "      <td>2021-12-06</td>\n",
       "      <td>332</td>\n",
       "      <td>1225</td>\n",
       "      <td>141</td>\n",
       "    </tr>\n",
       "    <tr>\n",
       "      <th>829</th>\n",
       "      <td>704</td>\n",
       "      <td>2021-01-29</td>\n",
       "      <td>Referral</td>\n",
       "      <td>2021-02-01</td>\n",
       "      <td>704</td>\n",
       "      <td>1654</td>\n",
       "      <td>3</td>\n",
       "    </tr>\n",
       "    <tr>\n",
       "      <th>830</th>\n",
       "      <td>820</td>\n",
       "      <td>2021-07-17</td>\n",
       "      <td>Referral</td>\n",
       "      <td>2021-09-05</td>\n",
       "      <td>820</td>\n",
       "      <td>1802</td>\n",
       "      <td>50</td>\n",
       "    </tr>\n",
       "    <tr>\n",
       "      <th>831</th>\n",
       "      <td>722</td>\n",
       "      <td>2020-02-21</td>\n",
       "      <td>Bulb Website</td>\n",
       "      <td>2021-07-24</td>\n",
       "      <td>722</td>\n",
       "      <td>1679</td>\n",
       "      <td>519</td>\n",
       "    </tr>\n",
       "  </tbody>\n",
       "</table>\n",
       "<p>832 rows × 7 columns</p>\n",
       "</div>"
      ],
      "text/plain": [
       "     customer_id sign_up_date sign_up_channel referral_date  \\\n",
       "0            674   2021-04-04        Referral    2021-04-04   \n",
       "1            468   2021-06-10        Referral    2021-07-18   \n",
       "2            837   2021-07-09        Referral    2021-07-18   \n",
       "3            253   2021-01-10    Bulb Website    2021-06-19   \n",
       "4            219   2021-04-04    Bulb Website    2021-09-15   \n",
       "..           ...          ...             ...           ...   \n",
       "827          332   2021-07-18        Referral    2021-07-22   \n",
       "828          332   2021-07-18        Referral    2021-12-06   \n",
       "829          704   2021-01-29        Referral    2021-02-01   \n",
       "830          820   2021-07-17        Referral    2021-09-05   \n",
       "831          722   2020-02-21    Bulb Website    2021-07-24   \n",
       "\n",
       "     referrer_customer_id  sign_up_customer_id  Referal_time(Days)  \n",
       "0                     674                 1618                   0  \n",
       "1                     468                 1382                  38  \n",
       "2                     837                 1823                   9  \n",
       "3                     253                 1141                 160  \n",
       "4                     219                 1106                 164  \n",
       "..                    ...                  ...                 ...  \n",
       "827                   332                 1396                   4  \n",
       "828                   332                 1225                 141  \n",
       "829                   704                 1654                   3  \n",
       "830                   820                 1802                  50  \n",
       "831                   722                 1679                 519  \n",
       "\n",
       "[832 rows x 7 columns]"
      ]
     },
     "execution_count": 8,
     "metadata": {},
     "output_type": "execute_result"
    }
   ],
   "source": [
    "#calculates how many weeks takes for a customer to refer\n",
    "combined['Referal_time(Days)'] = ((combined.referral_date - combined.sign_up_date)/np.timedelta64(1, 'D'))\n",
    "combined['Referal_time(Days)'] = combined['Referal_time(Days)'].astype(int)\n",
    "combined"
   ]
  },
  {
   "cell_type": "code",
   "execution_count": 9,
   "id": "0fa381bd",
   "metadata": {},
   "outputs": [
    {
     "data": {
      "image/png": "[encoded data removed]",
      "text/plain": [
       "<Figure size 432x288 with 1 Axes>"
      ]
     },
     "metadata": {
      "needs_background": "light"
     },
     "output_type": "display_data"
    }
   ],
   "source": [
    "sns.boxplot(data=combined, x=\"Referal_time(Days)\");"
   ]
  },
  {
   "cell_type": "code",
   "execution_count": 10,
   "id": "d085abcc",
   "metadata": {},
   "outputs": [
    {
     "name": "stdout",
     "output_type": "stream",
     "text": [
      "In average, a customer takes 83.5 days to refer a person.\n",
      "But it can take as much as 23 months.\n"
     ]
    }
   ],
   "source": [
    "print(f\"In average, a customer takes {combined['Referal_time(Days)'].median()} days to refer a person.\")\n",
    "print(f\"But it can take as much as {round(combined['Referal_time(Days)'].max()/30)} months.\")"
   ]
  },
  {
   "cell_type": "markdown",
   "id": "46ce50a8",
   "metadata": {},
   "source": [
    "## Does the channel members are acquired from significantly impact how they refer?"
   ]
  },
  {
   "cell_type": "code",
   "execution_count": 11,
   "id": "7bd8a323",
   "metadata": {},
   "outputs": [
    {
     "data": {
      "text/plain": [
       "3"
      ]
     },
     "execution_count": 11,
     "metadata": {},
     "output_type": "execute_result"
    }
   ],
   "source": [
    "#How many different channels are on how customers are acquired from:\n",
    "combined[\"sign_up_channel\"].nunique()"
   ]
  },
  {
   "cell_type": "code",
   "execution_count": 12,
   "id": "c456f4eb",
   "metadata": {},
   "outputs": [
    {
     "data": {
      "text/plain": [
       "Referral                    449\n",
       "Bulb Website                195\n",
       "Price Comparison Website    188\n",
       "Name: sign_up_channel, dtype: int64"
      ]
     },
     "execution_count": 12,
     "metadata": {},
     "output_type": "execute_result"
    }
   ],
   "source": [
    "# show numbers of how customer were acquired according to channels:\n",
    "ref_count = combined.sign_up_channel.str.contains(r'Referral').sum()\n",
    "company_count = combined.sign_up_channel.str.contains(r'Bulb Website').sum()\n",
    "other_website_count = combined.sign_up_channel.str.contains(r'Price Comparison').sum()\n",
    "\n",
    "combined[\"sign_up_channel\"].value_counts()"
   ]
  },
  {
   "cell_type": "code",
   "execution_count": 13,
   "id": "5ef9da60",
   "metadata": {
    "scrolled": true
   },
   "outputs": [
    {
     "data": {
      "image/png": "[encoded data removed]",
      "text/plain": [
       "<Figure size 432x288 with 1 Axes>"
      ]
     },
     "metadata": {
      "needs_background": "light"
     },
     "output_type": "display_data"
    }
   ],
   "source": [
    "referral_graph = sns.histplot(x = combined['sign_up_channel'],\n",
    "                  stat = 'percent', shrink = 0.8)\n",
    "\n",
    "# add label to the axis and label to the plot\n",
    "referral_graph.set(xlabel =\"Sign up channel\", title ='Percentage referral by channel');"
   ]
  },
  {
   "cell_type": "code",
   "execution_count": 14,
   "id": "b3593bff",
   "metadata": {},
   "outputs": [],
   "source": [
    "ref_perc = round((combined.sign_up_channel.str.contains(r'Referral').sum())/combined[\"sign_up_channel\"].size * 100)\n",
    "company_perc = round((combined.sign_up_channel.str.contains(r'Bulb Website').sum())/combined[\"sign_up_channel\"].size * 100)\n",
    "other_website_perc = round((combined.sign_up_channel.str.contains(r'Price Comparison').sum())/combined[\"sign_up_channel\"].size * 100)"
   ]
  },
  {
   "cell_type": "code",
   "execution_count": 21,
   "id": "e76afecb",
   "metadata": {},
   "outputs": [],
   "source": [
    "count = ref_count #number of referral \n",
    "nobs = combined.sign_up_channel.size\n",
    "value = 0.5 # This is the value of the null hypothesis. \n",
    " \n",
    "stat, pval = proportions_ztest(count, nobs, value, alternative='two-sided')\n",
    " \n",
    "p_value =round(pval,3)"
   ]
  },
  {
   "cell_type": "code",
   "execution_count": 19,
   "id": "d89abc5f",
   "metadata": {},
   "outputs": [
    {
     "name": "stdout",
     "output_type": "stream",
     "text": [
      "There is a 54% probablitlity that a person who signed by referral to become a refereer, with a p value of 0.022.\n",
      "These percentages are as lower as 23% and 23% if the person firstly signed up via the company's \n",
      "website or price comparison websites.\n"
     ]
    }
   ],
   "source": [
    "print(f\"There is a {ref_perc}% probablitlity that a person who signed by referral to become a refereer, with a p value of {p_value}.\")\n",
    "print(f\"These percentages are as lower as {company_perc}% and {other_website_perc}% if the person firstly signed up via the company's \\nwebsite or price comparison websites.\")"
   ]
  },
  {
   "cell_type": "markdown",
   "id": "4b951f8d",
   "metadata": {},
   "source": [
    "## Model for who and when to send an invitation e-mail"
   ]
  },
  {
   "cell_type": "markdown",
   "id": "dbf956b8",
   "metadata": {},
   "source": [
    "Customers who signed through referrals from previous customers should receive an email around 3 months after they first signed, asking to refer a new customer."
   ]
  }
 ],
 "metadata": {
  "kernelspec": {
   "display_name": "Python 3 (ipykernel)",
   "language": "python",
   "name": "python3"
  },
  "language_info": {
   "codemirror_mode": {
    "name": "ipython",
    "version": 3
   },
   "file_extension": ".py",
   "mimetype": "text/x-python",
   "name": "python",
   "nbconvert_exporter": "python",
   "pygments_lexer": "ipython3",
   "version": "3.8.12"
  },
  "toc": {
   "base_numbering": 1,
   "nav_menu": {},
   "number_sections": true,
   "sideBar": true,
   "skip_h1_title": false,
   "title_cell": "Table of Contents",
   "title_sidebar": "Contents",
   "toc_cell": false,
   "toc_position": {},
   "toc_section_display": true,
   "toc_window_display": false
  }
 },
 "nbformat": 4,
 "nbformat_minor": 5
}

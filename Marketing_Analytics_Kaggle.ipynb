{
 "cells": [
  {
   "cell_type": "markdown",
   "id": "46973478",
   "metadata": {},
   "source": [
    "**Content**\n",
    "   \n",
    "The dataset *ifoof_df.csv* consists of 2206 customers of a unknown company, with data on:\n",
    "- Customer profiles\n",
    "- Product preferences\n",
    "- Campaign successes/failures\n",
    "- Channel performance\n",
    " \n",
    "   \n",
    "**Acknowledgement**      \n",
    "    \n",
    "I do not own this dataset. I found it searching on [Kaggle](http://www.kaggle.com/datasets/jackdaoud/marketing-data?resource=download). The original dataset can be found on [GitHub](https://github.com/nailson/ifood-data-business-analyst-test).\n",
    "            \n"
   ]
  },
  {
   "cell_type": "markdown",
   "id": "80c8dd1c",
   "metadata": {},
   "source": [
    "**<center><font size=\"6\">Marketing Analytics</center></h1>**"
   ]
  },
  {
   "cell_type": "code",
   "execution_count": 1,
   "id": "67860bfd",
   "metadata": {},
   "outputs": [],
   "source": [
    "#Importing lybraries\n",
    "\n",
    "import pandas as pd\n",
    "import numpy as np\n",
    "import matplotlib.pyplot as plt\n",
    "import seaborn as sns"
   ]
  },
  {
   "cell_type": "code",
   "execution_count": 2,
   "id": "ce58273d",
   "metadata": {},
   "outputs": [
    {
     "data": {
      "text/html": [
       "<div>\n",
       "<style scoped>\n",
       "    .dataframe tbody tr th:only-of-type {\n",
       "        vertical-align: middle;\n",
       "    }\n",
       "\n",
       "    .dataframe tbody tr th {\n",
       "        vertical-align: top;\n",
       "    }\n",
       "\n",
       "    .dataframe thead th {\n",
       "        text-align: right;\n",
       "    }\n",
       "</style>\n",
       "<table border=\"1\" class=\"dataframe\">\n",
       "  <thead>\n",
       "    <tr style=\"text-align: right;\">\n",
       "      <th></th>\n",
       "      <th>ID</th>\n",
       "      <th>Year_Birth</th>\n",
       "      <th>Education</th>\n",
       "      <th>Marital_Status</th>\n",
       "      <th>Income</th>\n",
       "      <th>Kidhome</th>\n",
       "      <th>Teenhome</th>\n",
       "      <th>Dt_Customer</th>\n",
       "      <th>Recency</th>\n",
       "      <th>MntWines</th>\n",
       "      <th>...</th>\n",
       "      <th>NumWebVisitsMonth</th>\n",
       "      <th>AcceptedCmp3</th>\n",
       "      <th>AcceptedCmp4</th>\n",
       "      <th>AcceptedCmp5</th>\n",
       "      <th>AcceptedCmp1</th>\n",
       "      <th>AcceptedCmp2</th>\n",
       "      <th>Complain</th>\n",
       "      <th>Z_CostContact</th>\n",
       "      <th>Z_Revenue</th>\n",
       "      <th>Response</th>\n",
       "    </tr>\n",
       "  </thead>\n",
       "  <tbody>\n",
       "    <tr>\n",
       "      <th>0</th>\n",
       "      <td>5524</td>\n",
       "      <td>1957</td>\n",
       "      <td>Graduation</td>\n",
       "      <td>Single</td>\n",
       "      <td>58138.0</td>\n",
       "      <td>0</td>\n",
       "      <td>0</td>\n",
       "      <td>2012-09-04</td>\n",
       "      <td>58</td>\n",
       "      <td>635</td>\n",
       "      <td>...</td>\n",
       "      <td>7</td>\n",
       "      <td>0</td>\n",
       "      <td>0</td>\n",
       "      <td>0</td>\n",
       "      <td>0</td>\n",
       "      <td>0</td>\n",
       "      <td>0</td>\n",
       "      <td>3</td>\n",
       "      <td>11</td>\n",
       "      <td>1</td>\n",
       "    </tr>\n",
       "    <tr>\n",
       "      <th>1</th>\n",
       "      <td>2174</td>\n",
       "      <td>1954</td>\n",
       "      <td>Graduation</td>\n",
       "      <td>Single</td>\n",
       "      <td>46344.0</td>\n",
       "      <td>1</td>\n",
       "      <td>1</td>\n",
       "      <td>2014-03-08</td>\n",
       "      <td>38</td>\n",
       "      <td>11</td>\n",
       "      <td>...</td>\n",
       "      <td>5</td>\n",
       "      <td>0</td>\n",
       "      <td>0</td>\n",
       "      <td>0</td>\n",
       "      <td>0</td>\n",
       "      <td>0</td>\n",
       "      <td>0</td>\n",
       "      <td>3</td>\n",
       "      <td>11</td>\n",
       "      <td>0</td>\n",
       "    </tr>\n",
       "    <tr>\n",
       "      <th>2</th>\n",
       "      <td>4141</td>\n",
       "      <td>1965</td>\n",
       "      <td>Graduation</td>\n",
       "      <td>Together</td>\n",
       "      <td>71613.0</td>\n",
       "      <td>0</td>\n",
       "      <td>0</td>\n",
       "      <td>2013-08-21</td>\n",
       "      <td>26</td>\n",
       "      <td>426</td>\n",
       "      <td>...</td>\n",
       "      <td>4</td>\n",
       "      <td>0</td>\n",
       "      <td>0</td>\n",
       "      <td>0</td>\n",
       "      <td>0</td>\n",
       "      <td>0</td>\n",
       "      <td>0</td>\n",
       "      <td>3</td>\n",
       "      <td>11</td>\n",
       "      <td>0</td>\n",
       "    </tr>\n",
       "    <tr>\n",
       "      <th>3</th>\n",
       "      <td>6182</td>\n",
       "      <td>1984</td>\n",
       "      <td>Graduation</td>\n",
       "      <td>Together</td>\n",
       "      <td>26646.0</td>\n",
       "      <td>1</td>\n",
       "      <td>0</td>\n",
       "      <td>2014-02-10</td>\n",
       "      <td>26</td>\n",
       "      <td>11</td>\n",
       "      <td>...</td>\n",
       "      <td>6</td>\n",
       "      <td>0</td>\n",
       "      <td>0</td>\n",
       "      <td>0</td>\n",
       "      <td>0</td>\n",
       "      <td>0</td>\n",
       "      <td>0</td>\n",
       "      <td>3</td>\n",
       "      <td>11</td>\n",
       "      <td>0</td>\n",
       "    </tr>\n",
       "    <tr>\n",
       "      <th>4</th>\n",
       "      <td>5324</td>\n",
       "      <td>1981</td>\n",
       "      <td>PhD</td>\n",
       "      <td>Married</td>\n",
       "      <td>58293.0</td>\n",
       "      <td>1</td>\n",
       "      <td>0</td>\n",
       "      <td>2014-01-19</td>\n",
       "      <td>94</td>\n",
       "      <td>173</td>\n",
       "      <td>...</td>\n",
       "      <td>5</td>\n",
       "      <td>0</td>\n",
       "      <td>0</td>\n",
       "      <td>0</td>\n",
       "      <td>0</td>\n",
       "      <td>0</td>\n",
       "      <td>0</td>\n",
       "      <td>3</td>\n",
       "      <td>11</td>\n",
       "      <td>0</td>\n",
       "    </tr>\n",
       "  </tbody>\n",
       "</table>\n",
       "<p>5 rows × 29 columns</p>\n",
       "</div>"
      ],
      "text/plain": [
       "     ID  Year_Birth   Education Marital_Status   Income  Kidhome  Teenhome  \\\n",
       "0  5524        1957  Graduation         Single  58138.0        0         0   \n",
       "1  2174        1954  Graduation         Single  46344.0        1         1   \n",
       "2  4141        1965  Graduation       Together  71613.0        0         0   \n",
       "3  6182        1984  Graduation       Together  26646.0        1         0   \n",
       "4  5324        1981         PhD        Married  58293.0        1         0   \n",
       "\n",
       "  Dt_Customer  Recency  MntWines  ...  NumWebVisitsMonth  AcceptedCmp3  \\\n",
       "0  2012-09-04       58       635  ...                  7             0   \n",
       "1  2014-03-08       38        11  ...                  5             0   \n",
       "2  2013-08-21       26       426  ...                  4             0   \n",
       "3  2014-02-10       26        11  ...                  6             0   \n",
       "4  2014-01-19       94       173  ...                  5             0   \n",
       "\n",
       "   AcceptedCmp4  AcceptedCmp5  AcceptedCmp1  AcceptedCmp2  Complain  \\\n",
       "0             0             0             0             0         0   \n",
       "1             0             0             0             0         0   \n",
       "2             0             0             0             0         0   \n",
       "3             0             0             0             0         0   \n",
       "4             0             0             0             0         0   \n",
       "\n",
       "   Z_CostContact  Z_Revenue  Response  \n",
       "0              3         11         1  \n",
       "1              3         11         0  \n",
       "2              3         11         0  \n",
       "3              3         11         0  \n",
       "4              3         11         0  \n",
       "\n",
       "[5 rows x 29 columns]"
      ]
     },
     "execution_count": 2,
     "metadata": {},
     "output_type": "execute_result"
    }
   ],
   "source": [
    "#Reading file\n",
    "data = pd.read_csv(\"./data/ifood_df.csv\")\n",
    "data.head()"
   ]
  },
  {
   "cell_type": "code",
   "execution_count": 3,
   "id": "b7bf6403",
   "metadata": {},
   "outputs": [
    {
     "data": {
      "text/html": [
       "<div>\n",
       "<style scoped>\n",
       "    .dataframe tbody tr th:only-of-type {\n",
       "        vertical-align: middle;\n",
       "    }\n",
       "\n",
       "    .dataframe tbody tr th {\n",
       "        vertical-align: top;\n",
       "    }\n",
       "\n",
       "    .dataframe thead th {\n",
       "        text-align: right;\n",
       "    }\n",
       "</style>\n",
       "<table border=\"1\" class=\"dataframe\">\n",
       "  <thead>\n",
       "    <tr style=\"text-align: right;\">\n",
       "      <th></th>\n",
       "      <th>ID</th>\n",
       "      <th>Year_Birth</th>\n",
       "      <th>Income</th>\n",
       "      <th>Kidhome</th>\n",
       "      <th>Teenhome</th>\n",
       "      <th>Recency</th>\n",
       "      <th>MntWines</th>\n",
       "      <th>MntFruits</th>\n",
       "      <th>MntMeatProducts</th>\n",
       "      <th>MntFishProducts</th>\n",
       "      <th>...</th>\n",
       "      <th>NumWebVisitsMonth</th>\n",
       "      <th>AcceptedCmp3</th>\n",
       "      <th>AcceptedCmp4</th>\n",
       "      <th>AcceptedCmp5</th>\n",
       "      <th>AcceptedCmp1</th>\n",
       "      <th>AcceptedCmp2</th>\n",
       "      <th>Complain</th>\n",
       "      <th>Z_CostContact</th>\n",
       "      <th>Z_Revenue</th>\n",
       "      <th>Response</th>\n",
       "    </tr>\n",
       "  </thead>\n",
       "  <tbody>\n",
       "    <tr>\n",
       "      <th>count</th>\n",
       "      <td>2240.000000</td>\n",
       "      <td>2240.000000</td>\n",
       "      <td>2216.000000</td>\n",
       "      <td>2240.000000</td>\n",
       "      <td>2240.000000</td>\n",
       "      <td>2240.000000</td>\n",
       "      <td>2240.000000</td>\n",
       "      <td>2240.000000</td>\n",
       "      <td>2240.000000</td>\n",
       "      <td>2240.000000</td>\n",
       "      <td>...</td>\n",
       "      <td>2240.000000</td>\n",
       "      <td>2240.000000</td>\n",
       "      <td>2240.000000</td>\n",
       "      <td>2240.000000</td>\n",
       "      <td>2240.000000</td>\n",
       "      <td>2240.000000</td>\n",
       "      <td>2240.000000</td>\n",
       "      <td>2240.0</td>\n",
       "      <td>2240.0</td>\n",
       "      <td>2240.000000</td>\n",
       "    </tr>\n",
       "    <tr>\n",
       "      <th>mean</th>\n",
       "      <td>5592.159821</td>\n",
       "      <td>1968.805804</td>\n",
       "      <td>52247.251354</td>\n",
       "      <td>0.444196</td>\n",
       "      <td>0.506250</td>\n",
       "      <td>49.109375</td>\n",
       "      <td>303.935714</td>\n",
       "      <td>26.302232</td>\n",
       "      <td>166.950000</td>\n",
       "      <td>37.525446</td>\n",
       "      <td>...</td>\n",
       "      <td>5.316518</td>\n",
       "      <td>0.072768</td>\n",
       "      <td>0.074554</td>\n",
       "      <td>0.072768</td>\n",
       "      <td>0.064286</td>\n",
       "      <td>0.013393</td>\n",
       "      <td>0.009375</td>\n",
       "      <td>3.0</td>\n",
       "      <td>11.0</td>\n",
       "      <td>0.149107</td>\n",
       "    </tr>\n",
       "    <tr>\n",
       "      <th>std</th>\n",
       "      <td>3246.662198</td>\n",
       "      <td>11.984069</td>\n",
       "      <td>25173.076661</td>\n",
       "      <td>0.538398</td>\n",
       "      <td>0.544538</td>\n",
       "      <td>28.962453</td>\n",
       "      <td>336.597393</td>\n",
       "      <td>39.773434</td>\n",
       "      <td>225.715373</td>\n",
       "      <td>54.628979</td>\n",
       "      <td>...</td>\n",
       "      <td>2.426645</td>\n",
       "      <td>0.259813</td>\n",
       "      <td>0.262728</td>\n",
       "      <td>0.259813</td>\n",
       "      <td>0.245316</td>\n",
       "      <td>0.114976</td>\n",
       "      <td>0.096391</td>\n",
       "      <td>0.0</td>\n",
       "      <td>0.0</td>\n",
       "      <td>0.356274</td>\n",
       "    </tr>\n",
       "    <tr>\n",
       "      <th>min</th>\n",
       "      <td>0.000000</td>\n",
       "      <td>1893.000000</td>\n",
       "      <td>1730.000000</td>\n",
       "      <td>0.000000</td>\n",
       "      <td>0.000000</td>\n",
       "      <td>0.000000</td>\n",
       "      <td>0.000000</td>\n",
       "      <td>0.000000</td>\n",
       "      <td>0.000000</td>\n",
       "      <td>0.000000</td>\n",
       "      <td>...</td>\n",
       "      <td>0.000000</td>\n",
       "      <td>0.000000</td>\n",
       "      <td>0.000000</td>\n",
       "      <td>0.000000</td>\n",
       "      <td>0.000000</td>\n",
       "      <td>0.000000</td>\n",
       "      <td>0.000000</td>\n",
       "      <td>3.0</td>\n",
       "      <td>11.0</td>\n",
       "      <td>0.000000</td>\n",
       "    </tr>\n",
       "    <tr>\n",
       "      <th>25%</th>\n",
       "      <td>2828.250000</td>\n",
       "      <td>1959.000000</td>\n",
       "      <td>35303.000000</td>\n",
       "      <td>0.000000</td>\n",
       "      <td>0.000000</td>\n",
       "      <td>24.000000</td>\n",
       "      <td>23.750000</td>\n",
       "      <td>1.000000</td>\n",
       "      <td>16.000000</td>\n",
       "      <td>3.000000</td>\n",
       "      <td>...</td>\n",
       "      <td>3.000000</td>\n",
       "      <td>0.000000</td>\n",
       "      <td>0.000000</td>\n",
       "      <td>0.000000</td>\n",
       "      <td>0.000000</td>\n",
       "      <td>0.000000</td>\n",
       "      <td>0.000000</td>\n",
       "      <td>3.0</td>\n",
       "      <td>11.0</td>\n",
       "      <td>0.000000</td>\n",
       "    </tr>\n",
       "    <tr>\n",
       "      <th>50%</th>\n",
       "      <td>5458.500000</td>\n",
       "      <td>1970.000000</td>\n",
       "      <td>51381.500000</td>\n",
       "      <td>0.000000</td>\n",
       "      <td>0.000000</td>\n",
       "      <td>49.000000</td>\n",
       "      <td>173.500000</td>\n",
       "      <td>8.000000</td>\n",
       "      <td>67.000000</td>\n",
       "      <td>12.000000</td>\n",
       "      <td>...</td>\n",
       "      <td>6.000000</td>\n",
       "      <td>0.000000</td>\n",
       "      <td>0.000000</td>\n",
       "      <td>0.000000</td>\n",
       "      <td>0.000000</td>\n",
       "      <td>0.000000</td>\n",
       "      <td>0.000000</td>\n",
       "      <td>3.0</td>\n",
       "      <td>11.0</td>\n",
       "      <td>0.000000</td>\n",
       "    </tr>\n",
       "    <tr>\n",
       "      <th>75%</th>\n",
       "      <td>8427.750000</td>\n",
       "      <td>1977.000000</td>\n",
       "      <td>68522.000000</td>\n",
       "      <td>1.000000</td>\n",
       "      <td>1.000000</td>\n",
       "      <td>74.000000</td>\n",
       "      <td>504.250000</td>\n",
       "      <td>33.000000</td>\n",
       "      <td>232.000000</td>\n",
       "      <td>50.000000</td>\n",
       "      <td>...</td>\n",
       "      <td>7.000000</td>\n",
       "      <td>0.000000</td>\n",
       "      <td>0.000000</td>\n",
       "      <td>0.000000</td>\n",
       "      <td>0.000000</td>\n",
       "      <td>0.000000</td>\n",
       "      <td>0.000000</td>\n",
       "      <td>3.0</td>\n",
       "      <td>11.0</td>\n",
       "      <td>0.000000</td>\n",
       "    </tr>\n",
       "    <tr>\n",
       "      <th>max</th>\n",
       "      <td>11191.000000</td>\n",
       "      <td>1996.000000</td>\n",
       "      <td>666666.000000</td>\n",
       "      <td>2.000000</td>\n",
       "      <td>2.000000</td>\n",
       "      <td>99.000000</td>\n",
       "      <td>1493.000000</td>\n",
       "      <td>199.000000</td>\n",
       "      <td>1725.000000</td>\n",
       "      <td>259.000000</td>\n",
       "      <td>...</td>\n",
       "      <td>20.000000</td>\n",
       "      <td>1.000000</td>\n",
       "      <td>1.000000</td>\n",
       "      <td>1.000000</td>\n",
       "      <td>1.000000</td>\n",
       "      <td>1.000000</td>\n",
       "      <td>1.000000</td>\n",
       "      <td>3.0</td>\n",
       "      <td>11.0</td>\n",
       "      <td>1.000000</td>\n",
       "    </tr>\n",
       "  </tbody>\n",
       "</table>\n",
       "<p>8 rows × 26 columns</p>\n",
       "</div>"
      ],
      "text/plain": [
       "                 ID   Year_Birth         Income      Kidhome     Teenhome  \\\n",
       "count   2240.000000  2240.000000    2216.000000  2240.000000  2240.000000   \n",
       "mean    5592.159821  1968.805804   52247.251354     0.444196     0.506250   \n",
       "std     3246.662198    11.984069   25173.076661     0.538398     0.544538   \n",
       "min        0.000000  1893.000000    1730.000000     0.000000     0.000000   \n",
       "25%     2828.250000  1959.000000   35303.000000     0.000000     0.000000   \n",
       "50%     5458.500000  1970.000000   51381.500000     0.000000     0.000000   \n",
       "75%     8427.750000  1977.000000   68522.000000     1.000000     1.000000   \n",
       "max    11191.000000  1996.000000  666666.000000     2.000000     2.000000   \n",
       "\n",
       "           Recency     MntWines    MntFruits  MntMeatProducts  \\\n",
       "count  2240.000000  2240.000000  2240.000000      2240.000000   \n",
       "mean     49.109375   303.935714    26.302232       166.950000   \n",
       "std      28.962453   336.597393    39.773434       225.715373   \n",
       "min       0.000000     0.000000     0.000000         0.000000   \n",
       "25%      24.000000    23.750000     1.000000        16.000000   \n",
       "50%      49.000000   173.500000     8.000000        67.000000   \n",
       "75%      74.000000   504.250000    33.000000       232.000000   \n",
       "max      99.000000  1493.000000   199.000000      1725.000000   \n",
       "\n",
       "       MntFishProducts  ...  NumWebVisitsMonth  AcceptedCmp3  AcceptedCmp4  \\\n",
       "count      2240.000000  ...        2240.000000   2240.000000   2240.000000   \n",
       "mean         37.525446  ...           5.316518      0.072768      0.074554   \n",
       "std          54.628979  ...           2.426645      0.259813      0.262728   \n",
       "min           0.000000  ...           0.000000      0.000000      0.000000   \n",
       "25%           3.000000  ...           3.000000      0.000000      0.000000   \n",
       "50%          12.000000  ...           6.000000      0.000000      0.000000   \n",
       "75%          50.000000  ...           7.000000      0.000000      0.000000   \n",
       "max         259.000000  ...          20.000000      1.000000      1.000000   \n",
       "\n",
       "       AcceptedCmp5  AcceptedCmp1  AcceptedCmp2     Complain  Z_CostContact  \\\n",
       "count   2240.000000   2240.000000   2240.000000  2240.000000         2240.0   \n",
       "mean       0.072768      0.064286      0.013393     0.009375            3.0   \n",
       "std        0.259813      0.245316      0.114976     0.096391            0.0   \n",
       "min        0.000000      0.000000      0.000000     0.000000            3.0   \n",
       "25%        0.000000      0.000000      0.000000     0.000000            3.0   \n",
       "50%        0.000000      0.000000      0.000000     0.000000            3.0   \n",
       "75%        0.000000      0.000000      0.000000     0.000000            3.0   \n",
       "max        1.000000      1.000000      1.000000     1.000000            3.0   \n",
       "\n",
       "       Z_Revenue     Response  \n",
       "count     2240.0  2240.000000  \n",
       "mean        11.0     0.149107  \n",
       "std          0.0     0.356274  \n",
       "min         11.0     0.000000  \n",
       "25%         11.0     0.000000  \n",
       "50%         11.0     0.000000  \n",
       "75%         11.0     0.000000  \n",
       "max         11.0     1.000000  \n",
       "\n",
       "[8 rows x 26 columns]"
      ]
     },
     "execution_count": 3,
     "metadata": {},
     "output_type": "execute_result"
    }
   ],
   "source": [
    "#summary of dataset\n",
    "data.describe()"
   ]
  },
  {
   "cell_type": "code",
   "execution_count": 4,
   "id": "7e840dd0",
   "metadata": {
    "scrolled": true
   },
   "outputs": [
    {
     "data": {
      "text/plain": [
       "Index(['ID', 'Year_Birth', 'Education', 'Marital_Status', 'Income', 'Kidhome',\n",
       "       'Teenhome', 'Dt_Customer', 'Recency', 'MntWines', 'MntFruits',\n",
       "       'MntMeatProducts', 'MntFishProducts', 'MntSweetProducts',\n",
       "       'MntGoldProds', 'NumDealsPurchases', 'NumWebPurchases',\n",
       "       'NumCatalogPurchases', 'NumStorePurchases', 'NumWebVisitsMonth',\n",
       "       'AcceptedCmp3', 'AcceptedCmp4', 'AcceptedCmp5', 'AcceptedCmp1',\n",
       "       'AcceptedCmp2', 'Complain', 'Z_CostContact', 'Z_Revenue', 'Response'],\n",
       "      dtype='object')"
      ]
     },
     "execution_count": 4,
     "metadata": {},
     "output_type": "execute_result"
    }
   ],
   "source": [
    "data.columns"
   ]
  },
  {
   "cell_type": "markdown",
   "id": "a879eb29",
   "metadata": {},
   "source": [
    "## Performing initial cleaning"
   ]
  },
  {
   "cell_type": "code",
   "execution_count": 5,
   "id": "9fa84171",
   "metadata": {
    "scrolled": true
   },
   "outputs": [
    {
     "data": {
      "image/png": "[encoded data removed]",
      "text/plain": [
       "<Figure size 432x288 with 1 Axes>"
      ]
     },
     "metadata": {
      "needs_background": "light"
     },
     "output_type": "display_data"
    }
   ],
   "source": [
    "#Income has a max number too high compared to mean. Is it outlier?\n",
    "sns.boxplot(data= data, x=\"Income\");"
   ]
  },
  {
   "cell_type": "code",
   "execution_count": 6,
   "id": "d4d4c872",
   "metadata": {},
   "outputs": [
    {
     "data": {
      "text/plain": [
       "2233"
      ]
     },
     "execution_count": 6,
     "metadata": {},
     "output_type": "execute_result"
    }
   ],
   "source": [
    "#Finds axis with highest value\n",
    "data[\"Income\"].idxmax()"
   ]
  },
  {
   "cell_type": "code",
   "execution_count": 7,
   "id": "d4984c95",
   "metadata": {},
   "outputs": [
    {
     "data": {
      "image/png": "[encoded data removed]",
      "text/plain": [
       "<Figure size 432x288 with 1 Axes>"
      ]
     },
     "metadata": {
      "needs_background": "light"
     },
     "output_type": "display_data"
    }
   ],
   "source": [
    "#delete axis with highest income value\n",
    "data.drop(index=2233, inplace=True)\n",
    "\n",
    "#plot income feature\n",
    "sns.boxplot(data= data, x=\"Income\");"
   ]
  },
  {
   "cell_type": "code",
   "execution_count": 8,
   "id": "0a5f5384",
   "metadata": {},
   "outputs": [],
   "source": [
    "#dropping columns with no relevant data\n",
    "data = data.drop(columns=['Z_CostContact', 'Z_Revenue'])"
   ]
  },
  {
   "cell_type": "code",
   "execution_count": 9,
   "id": "4d277548",
   "metadata": {},
   "outputs": [
    {
     "name": "stdout",
     "output_type": "stream",
     "text": [
      "<class 'pandas.core.frame.DataFrame'>\n",
      "Int64Index: 2239 entries, 0 to 2239\n",
      "Data columns (total 27 columns):\n",
      " #   Column               Non-Null Count  Dtype  \n",
      "---  ------               --------------  -----  \n",
      " 0   ID                   2239 non-null   int64  \n",
      " 1   Year_Birth           2239 non-null   int64  \n",
      " 2   Education            2239 non-null   object \n",
      " 3   Marital_Status       2239 non-null   object \n",
      " 4   Income               2215 non-null   float64\n",
      " 5   Kidhome              2239 non-null   int64  \n",
      " 6   Teenhome             2239 non-null   int64  \n",
      " 7   Dt_Customer          2239 non-null   object \n",
      " 8   Recency              2239 non-null   int64  \n",
      " 9   MntWines             2239 non-null   int64  \n",
      " 10  MntFruits            2239 non-null   int64  \n",
      " 11  MntMeatProducts      2239 non-null   int64  \n",
      " 12  MntFishProducts      2239 non-null   int64  \n",
      " 13  MntSweetProducts     2239 non-null   int64  \n",
      " 14  MntGoldProds         2239 non-null   int64  \n",
      " 15  NumDealsPurchases    2239 non-null   int64  \n",
      " 16  NumWebPurchases      2239 non-null   int64  \n",
      " 17  NumCatalogPurchases  2239 non-null   int64  \n",
      " 18  NumStorePurchases    2239 non-null   int64  \n",
      " 19  NumWebVisitsMonth    2239 non-null   int64  \n",
      " 20  AcceptedCmp3         2239 non-null   int64  \n",
      " 21  AcceptedCmp4         2239 non-null   int64  \n",
      " 22  AcceptedCmp5         2239 non-null   int64  \n",
      " 23  AcceptedCmp1         2239 non-null   int64  \n",
      " 24  AcceptedCmp2         2239 non-null   int64  \n",
      " 25  Complain             2239 non-null   int64  \n",
      " 26  Response             2239 non-null   int64  \n",
      "dtypes: float64(1), int64(23), object(3)\n",
      "memory usage: 489.8+ KB\n",
      "Data has a size of 60453\n"
     ]
    }
   ],
   "source": [
    "#general info of dataset\n",
    "data.info()\n",
    "print(f'Data has a size of {data.size}')"
   ]
  },
  {
   "cell_type": "code",
   "execution_count": 10,
   "id": "71a15b46",
   "metadata": {},
   "outputs": [
    {
     "data": {
      "text/plain": [
       "ID                      0\n",
       "Year_Birth              0\n",
       "Education               0\n",
       "Marital_Status          0\n",
       "Income                 24\n",
       "Kidhome                 0\n",
       "Teenhome                0\n",
       "Dt_Customer             0\n",
       "Recency                 0\n",
       "MntWines                0\n",
       "MntFruits               0\n",
       "MntMeatProducts         0\n",
       "MntFishProducts         0\n",
       "MntSweetProducts        0\n",
       "MntGoldProds            0\n",
       "NumDealsPurchases       0\n",
       "NumWebPurchases         0\n",
       "NumCatalogPurchases     0\n",
       "NumStorePurchases       0\n",
       "NumWebVisitsMonth       0\n",
       "AcceptedCmp3            0\n",
       "AcceptedCmp4            0\n",
       "AcceptedCmp5            0\n",
       "AcceptedCmp1            0\n",
       "AcceptedCmp2            0\n",
       "Complain                0\n",
       "Response                0\n",
       "dtype: int64"
      ]
     },
     "execution_count": 10,
     "metadata": {},
     "output_type": "execute_result"
    }
   ],
   "source": [
    "data.isnull().sum()"
   ]
  },
  {
   "cell_type": "code",
   "execution_count": 11,
   "id": "16bf9a20",
   "metadata": {},
   "outputs": [
    {
     "data": {
      "text/plain": [
       "2215"
      ]
     },
     "execution_count": 11,
     "metadata": {},
     "output_type": "execute_result"
    }
   ],
   "source": [
    "#dropping missing values\n",
    "data.dropna(inplace = True)\n",
    "len(data)"
   ]
  },
  {
   "cell_type": "markdown",
   "id": "49bb82ff",
   "metadata": {},
   "source": [
    "<font size=\"4\">✅</font> Deleted 24 entrances with no values"
   ]
  },
  {
   "cell_type": "code",
   "execution_count": 12,
   "id": "67b57f91",
   "metadata": {
    "scrolled": true
   },
   "outputs": [
    {
     "data": {
      "text/plain": [
       "2215"
      ]
     },
     "execution_count": 12,
     "metadata": {},
     "output_type": "execute_result"
    }
   ],
   "source": [
    "#dropping missing values\n",
    "data.drop_duplicates(inplace = True)\n",
    "len(data)"
   ]
  },
  {
   "cell_type": "markdown",
   "id": "8e7c9331",
   "metadata": {},
   "source": [
    "<font size=\"4\">✅</font> No duplicates were found."
   ]
  },
  {
   "cell_type": "code",
   "execution_count": 14,
   "id": "9a0c7e21",
   "metadata": {},
   "outputs": [
    {
     "data": {
      "text/html": [
       "<div>\n",
       "<style scoped>\n",
       "    .dataframe tbody tr th:only-of-type {\n",
       "        vertical-align: middle;\n",
       "    }\n",
       "\n",
       "    .dataframe tbody tr th {\n",
       "        vertical-align: top;\n",
       "    }\n",
       "\n",
       "    .dataframe thead th {\n",
       "        text-align: right;\n",
       "    }\n",
       "</style>\n",
       "<table border=\"1\" class=\"dataframe\">\n",
       "  <thead>\n",
       "    <tr style=\"text-align: right;\">\n",
       "      <th></th>\n",
       "      <th>ID</th>\n",
       "      <th>Year_Birth</th>\n",
       "      <th>Income</th>\n",
       "      <th>Kidhome</th>\n",
       "      <th>Teenhome</th>\n",
       "      <th>Recency</th>\n",
       "      <th>MntWines</th>\n",
       "      <th>MntFruits</th>\n",
       "      <th>MntMeatProducts</th>\n",
       "      <th>MntFishProducts</th>\n",
       "      <th>...</th>\n",
       "      <th>NumCatalogPurchases</th>\n",
       "      <th>NumStorePurchases</th>\n",
       "      <th>NumWebVisitsMonth</th>\n",
       "      <th>AcceptedCmp3</th>\n",
       "      <th>AcceptedCmp4</th>\n",
       "      <th>AcceptedCmp5</th>\n",
       "      <th>AcceptedCmp1</th>\n",
       "      <th>AcceptedCmp2</th>\n",
       "      <th>Complain</th>\n",
       "      <th>Response</th>\n",
       "    </tr>\n",
       "  </thead>\n",
       "  <tbody>\n",
       "    <tr>\n",
       "      <th>0</th>\n",
       "      <td>5524</td>\n",
       "      <td>1957</td>\n",
       "      <td>58138.0</td>\n",
       "      <td>0</td>\n",
       "      <td>0</td>\n",
       "      <td>58</td>\n",
       "      <td>635</td>\n",
       "      <td>88</td>\n",
       "      <td>546</td>\n",
       "      <td>172</td>\n",
       "      <td>...</td>\n",
       "      <td>10</td>\n",
       "      <td>4</td>\n",
       "      <td>7</td>\n",
       "      <td>0</td>\n",
       "      <td>0</td>\n",
       "      <td>0</td>\n",
       "      <td>0</td>\n",
       "      <td>0</td>\n",
       "      <td>0</td>\n",
       "      <td>1</td>\n",
       "    </tr>\n",
       "    <tr>\n",
       "      <th>1</th>\n",
       "      <td>2174</td>\n",
       "      <td>1954</td>\n",
       "      <td>46344.0</td>\n",
       "      <td>1</td>\n",
       "      <td>1</td>\n",
       "      <td>38</td>\n",
       "      <td>11</td>\n",
       "      <td>1</td>\n",
       "      <td>6</td>\n",
       "      <td>2</td>\n",
       "      <td>...</td>\n",
       "      <td>1</td>\n",
       "      <td>2</td>\n",
       "      <td>5</td>\n",
       "      <td>0</td>\n",
       "      <td>0</td>\n",
       "      <td>0</td>\n",
       "      <td>0</td>\n",
       "      <td>0</td>\n",
       "      <td>0</td>\n",
       "      <td>0</td>\n",
       "    </tr>\n",
       "    <tr>\n",
       "      <th>2</th>\n",
       "      <td>4141</td>\n",
       "      <td>1965</td>\n",
       "      <td>71613.0</td>\n",
       "      <td>0</td>\n",
       "      <td>0</td>\n",
       "      <td>26</td>\n",
       "      <td>426</td>\n",
       "      <td>49</td>\n",
       "      <td>127</td>\n",
       "      <td>111</td>\n",
       "      <td>...</td>\n",
       "      <td>2</td>\n",
       "      <td>10</td>\n",
       "      <td>4</td>\n",
       "      <td>0</td>\n",
       "      <td>0</td>\n",
       "      <td>0</td>\n",
       "      <td>0</td>\n",
       "      <td>0</td>\n",
       "      <td>0</td>\n",
       "      <td>0</td>\n",
       "    </tr>\n",
       "    <tr>\n",
       "      <th>3</th>\n",
       "      <td>6182</td>\n",
       "      <td>1984</td>\n",
       "      <td>26646.0</td>\n",
       "      <td>1</td>\n",
       "      <td>0</td>\n",
       "      <td>26</td>\n",
       "      <td>11</td>\n",
       "      <td>4</td>\n",
       "      <td>20</td>\n",
       "      <td>10</td>\n",
       "      <td>...</td>\n",
       "      <td>0</td>\n",
       "      <td>4</td>\n",
       "      <td>6</td>\n",
       "      <td>0</td>\n",
       "      <td>0</td>\n",
       "      <td>0</td>\n",
       "      <td>0</td>\n",
       "      <td>0</td>\n",
       "      <td>0</td>\n",
       "      <td>0</td>\n",
       "    </tr>\n",
       "    <tr>\n",
       "      <th>4</th>\n",
       "      <td>5324</td>\n",
       "      <td>1981</td>\n",
       "      <td>58293.0</td>\n",
       "      <td>1</td>\n",
       "      <td>0</td>\n",
       "      <td>94</td>\n",
       "      <td>173</td>\n",
       "      <td>43</td>\n",
       "      <td>118</td>\n",
       "      <td>46</td>\n",
       "      <td>...</td>\n",
       "      <td>3</td>\n",
       "      <td>6</td>\n",
       "      <td>5</td>\n",
       "      <td>0</td>\n",
       "      <td>0</td>\n",
       "      <td>0</td>\n",
       "      <td>0</td>\n",
       "      <td>0</td>\n",
       "      <td>0</td>\n",
       "      <td>0</td>\n",
       "    </tr>\n",
       "  </tbody>\n",
       "</table>\n",
       "<p>5 rows × 24 columns</p>\n",
       "</div>"
      ],
      "text/plain": [
       "     ID  Year_Birth   Income  Kidhome  Teenhome  Recency  MntWines  MntFruits  \\\n",
       "0  5524        1957  58138.0        0         0       58       635         88   \n",
       "1  2174        1954  46344.0        1         1       38        11          1   \n",
       "2  4141        1965  71613.0        0         0       26       426         49   \n",
       "3  6182        1984  26646.0        1         0       26        11          4   \n",
       "4  5324        1981  58293.0        1         0       94       173         43   \n",
       "\n",
       "   MntMeatProducts  MntFishProducts  ...  NumCatalogPurchases  \\\n",
       "0              546              172  ...                   10   \n",
       "1                6                2  ...                    1   \n",
       "2              127              111  ...                    2   \n",
       "3               20               10  ...                    0   \n",
       "4              118               46  ...                    3   \n",
       "\n",
       "   NumStorePurchases  NumWebVisitsMonth  AcceptedCmp3  AcceptedCmp4  \\\n",
       "0                  4                  7             0             0   \n",
       "1                  2                  5             0             0   \n",
       "2                 10                  4             0             0   \n",
       "3                  4                  6             0             0   \n",
       "4                  6                  5             0             0   \n",
       "\n",
       "   AcceptedCmp5  AcceptedCmp1  AcceptedCmp2  Complain  Response  \n",
       "0             0             0             0         0         1  \n",
       "1             0             0             0         0         0  \n",
       "2             0             0             0         0         0  \n",
       "3             0             0             0         0         0  \n",
       "4             0             0             0         0         0  \n",
       "\n",
       "[5 rows x 24 columns]"
      ]
     },
     "execution_count": 14,
     "metadata": {},
     "output_type": "execute_result"
    }
   ],
   "source": [
    "num_features = data.select_dtypes(exclude=object)\n",
    "num_features.head()"
   ]
  },
  {
   "cell_type": "code",
   "execution_count": 15,
   "id": "53a1ad41",
   "metadata": {
    "scrolled": false
   },
   "outputs": [
    {
     "data": {
      "image/png": "[encoded data removed]",
      "text/plain": [
       "<Figure size 864x288 with 2 Axes>"
      ]
     },
     "metadata": {
      "needs_background": "light"
     },
     "output_type": "display_data"
    },
    {
     "data": {
      "image/png": "[encoded data removed]",
      "text/plain": [
       "<Figure size 864x288 with 2 Axes>"
      ]
     },
     "metadata": {
      "needs_background": "light"
     },
     "output_type": "display_data"
    },
    {
     "data": {
      "image/png": "[encoded data removed]",
      "text/plain": [
       "<Figure size 864x288 with 2 Axes>"
      ]
     },
     "metadata": {
      "needs_background": "light"
     },
     "output_type": "display_data"
    },
    {
     "data": {
      "image/png": "[encoded data removed]",
      "text/plain": [
       "<Figure size 864x288 with 2 Axes>"
      ]
     },
     "metadata": {
      "needs_background": "light"
     },
     "output_type": "display_data"
    },
    {
     "data": {
      "image/png": "[encoded data removed]",
      "text/plain": [
       "<Figure size 864x288 with 2 Axes>"
      ]
     },
     "metadata": {
      "needs_background": "light"
     },
     "output_type": "display_data"
    },
    {
     "data": {
      "image/png": "[encoded data removed]",
      "text/plain": [
       "<Figure size 864x288 with 2 Axes>"
      ]
     },
     "metadata": {
      "needs_background": "light"
     },
     "output_type": "display_data"
    },
    {
     "data": {
      "image/png": "[encoded data removed]",
      "text/plain": [
       "<Figure size 864x288 with 2 Axes>"
      ]
     },
     "metadata": {
      "needs_background": "light"
     },
     "output_type": "display_data"
    },
    {
     "data": {
      "image/png": "[encoded data removed]",
      "text/plain": [
       "<Figure size 864x288 with 2 Axes>"
      ]
     },
     "metadata": {
      "needs_background": "light"
     },
     "output_type": "display_data"
    },
    {
     "data": {
      "image/png": "[encoded data removed]",
      "text/plain": [
       "<Figure size 864x288 with 2 Axes>"
      ]
     },
     "metadata": {
      "needs_background": "light"
     },
     "output_type": "display_data"
    },
    {
     "data": {
      "image/png": "[encoded data removed]",
      "text/plain": [
       "<Figure size 864x288 with 2 Axes>"
      ]
     },
     "metadata": {
      "needs_background": "light"
     },
     "output_type": "display_data"
    },
    {
     "data": {
      "image/png": "[encoded data removed]",
      "text/plain": [
       "<Figure size 864x288 with 2 Axes>"
      ]
     },
     "metadata": {
      "needs_background": "light"
     },
     "output_type": "display_data"
    },
    {
     "data": {
      "image/png": "[encoded data removed]",
      "text/plain": [
       "<Figure size 864x288 with 2 Axes>"
      ]
     },
     "metadata": {
      "needs_background": "light"
     },
     "output_type": "display_data"
    },
    {
     "data": {
      "image/png": "[encoded data removed]",
      "text/plain": [
       "<Figure size 864x288 with 2 Axes>"
      ]
     },
     "metadata": {
      "needs_background": "light"
     },
     "output_type": "display_data"
    }
   ],
   "source": [
    "# Checking for distribution and outiliers:\n",
    "\n",
    "for c in num_features.iloc[:,1:14]:\n",
    "    fig, ax = plt.subplots(1, 2, figsize =(12,4))\n",
    "    \n",
    "    ax[0].set_title(f'Distribution of {c}')\n",
    "    sns.histplot(x= num_features[c], kde= True, ax=ax[0])\n",
    "    \n",
    "    ax[1].set_title(f'Bloxplot of {c}')\n",
    "    sns.boxplot(x=num_features[c], ax=ax[1])\n"
   ]
  },
  {
   "cell_type": "code",
   "execution_count": 16,
   "id": "5caa9d3d",
   "metadata": {
    "scrolled": false
   },
   "outputs": [
    {
     "data": {
      "text/html": [
       "<div>\n",
       "<style scoped>\n",
       "    .dataframe tbody tr th:only-of-type {\n",
       "        vertical-align: middle;\n",
       "    }\n",
       "\n",
       "    .dataframe tbody tr th {\n",
       "        vertical-align: top;\n",
       "    }\n",
       "\n",
       "    .dataframe thead th {\n",
       "        text-align: right;\n",
       "    }\n",
       "</style>\n",
       "<table border=\"1\" class=\"dataframe\">\n",
       "  <thead>\n",
       "    <tr style=\"text-align: right;\">\n",
       "      <th></th>\n",
       "      <th>ID</th>\n",
       "      <th>Year_Birth</th>\n",
       "      <th>Education</th>\n",
       "      <th>Marital_Status</th>\n",
       "      <th>Income</th>\n",
       "      <th>Kidhome</th>\n",
       "      <th>Teenhome</th>\n",
       "      <th>Dt_Customer</th>\n",
       "      <th>Recency</th>\n",
       "      <th>MntWines</th>\n",
       "      <th>...</th>\n",
       "      <th>NumCatalogPurchases</th>\n",
       "      <th>NumStorePurchases</th>\n",
       "      <th>NumWebVisitsMonth</th>\n",
       "      <th>AcceptedCmp3</th>\n",
       "      <th>AcceptedCmp4</th>\n",
       "      <th>AcceptedCmp5</th>\n",
       "      <th>AcceptedCmp1</th>\n",
       "      <th>AcceptedCmp2</th>\n",
       "      <th>Complain</th>\n",
       "      <th>Response</th>\n",
       "    </tr>\n",
       "  </thead>\n",
       "  <tbody>\n",
       "    <tr>\n",
       "      <th>239</th>\n",
       "      <td>11004</td>\n",
       "      <td>1893</td>\n",
       "      <td>2n Cycle</td>\n",
       "      <td>Single</td>\n",
       "      <td>60182.0</td>\n",
       "      <td>0</td>\n",
       "      <td>1</td>\n",
       "      <td>2014-05-17</td>\n",
       "      <td>23</td>\n",
       "      <td>8</td>\n",
       "      <td>...</td>\n",
       "      <td>0</td>\n",
       "      <td>2</td>\n",
       "      <td>4</td>\n",
       "      <td>0</td>\n",
       "      <td>0</td>\n",
       "      <td>0</td>\n",
       "      <td>0</td>\n",
       "      <td>0</td>\n",
       "      <td>0</td>\n",
       "      <td>0</td>\n",
       "    </tr>\n",
       "    <tr>\n",
       "      <th>339</th>\n",
       "      <td>1150</td>\n",
       "      <td>1899</td>\n",
       "      <td>PhD</td>\n",
       "      <td>Together</td>\n",
       "      <td>83532.0</td>\n",
       "      <td>0</td>\n",
       "      <td>0</td>\n",
       "      <td>2013-09-26</td>\n",
       "      <td>36</td>\n",
       "      <td>755</td>\n",
       "      <td>...</td>\n",
       "      <td>6</td>\n",
       "      <td>4</td>\n",
       "      <td>1</td>\n",
       "      <td>0</td>\n",
       "      <td>0</td>\n",
       "      <td>1</td>\n",
       "      <td>0</td>\n",
       "      <td>0</td>\n",
       "      <td>0</td>\n",
       "      <td>0</td>\n",
       "    </tr>\n",
       "    <tr>\n",
       "      <th>192</th>\n",
       "      <td>7829</td>\n",
       "      <td>1900</td>\n",
       "      <td>2n Cycle</td>\n",
       "      <td>Divorced</td>\n",
       "      <td>36640.0</td>\n",
       "      <td>1</td>\n",
       "      <td>0</td>\n",
       "      <td>2013-09-26</td>\n",
       "      <td>99</td>\n",
       "      <td>15</td>\n",
       "      <td>...</td>\n",
       "      <td>1</td>\n",
       "      <td>2</td>\n",
       "      <td>5</td>\n",
       "      <td>0</td>\n",
       "      <td>0</td>\n",
       "      <td>0</td>\n",
       "      <td>0</td>\n",
       "      <td>0</td>\n",
       "      <td>1</td>\n",
       "      <td>0</td>\n",
       "    </tr>\n",
       "    <tr>\n",
       "      <th>1950</th>\n",
       "      <td>6663</td>\n",
       "      <td>1940</td>\n",
       "      <td>PhD</td>\n",
       "      <td>Single</td>\n",
       "      <td>51141.0</td>\n",
       "      <td>0</td>\n",
       "      <td>0</td>\n",
       "      <td>2013-07-08</td>\n",
       "      <td>96</td>\n",
       "      <td>144</td>\n",
       "      <td>...</td>\n",
       "      <td>1</td>\n",
       "      <td>4</td>\n",
       "      <td>5</td>\n",
       "      <td>0</td>\n",
       "      <td>0</td>\n",
       "      <td>0</td>\n",
       "      <td>0</td>\n",
       "      <td>0</td>\n",
       "      <td>0</td>\n",
       "      <td>0</td>\n",
       "    </tr>\n",
       "    <tr>\n",
       "      <th>424</th>\n",
       "      <td>6932</td>\n",
       "      <td>1941</td>\n",
       "      <td>PhD</td>\n",
       "      <td>Married</td>\n",
       "      <td>93027.0</td>\n",
       "      <td>0</td>\n",
       "      <td>0</td>\n",
       "      <td>2013-04-13</td>\n",
       "      <td>77</td>\n",
       "      <td>1285</td>\n",
       "      <td>...</td>\n",
       "      <td>10</td>\n",
       "      <td>5</td>\n",
       "      <td>2</td>\n",
       "      <td>0</td>\n",
       "      <td>0</td>\n",
       "      <td>1</td>\n",
       "      <td>0</td>\n",
       "      <td>0</td>\n",
       "      <td>0</td>\n",
       "      <td>0</td>\n",
       "    </tr>\n",
       "    <tr>\n",
       "      <th>...</th>\n",
       "      <td>...</td>\n",
       "      <td>...</td>\n",
       "      <td>...</td>\n",
       "      <td>...</td>\n",
       "      <td>...</td>\n",
       "      <td>...</td>\n",
       "      <td>...</td>\n",
       "      <td>...</td>\n",
       "      <td>...</td>\n",
       "      <td>...</td>\n",
       "      <td>...</td>\n",
       "      <td>...</td>\n",
       "      <td>...</td>\n",
       "      <td>...</td>\n",
       "      <td>...</td>\n",
       "      <td>...</td>\n",
       "      <td>...</td>\n",
       "      <td>...</td>\n",
       "      <td>...</td>\n",
       "      <td>...</td>\n",
       "      <td>...</td>\n",
       "    </tr>\n",
       "    <tr>\n",
       "      <th>696</th>\n",
       "      <td>8315</td>\n",
       "      <td>1995</td>\n",
       "      <td>Graduation</td>\n",
       "      <td>Single</td>\n",
       "      <td>34824.0</td>\n",
       "      <td>0</td>\n",
       "      <td>0</td>\n",
       "      <td>2014-03-26</td>\n",
       "      <td>65</td>\n",
       "      <td>4</td>\n",
       "      <td>...</td>\n",
       "      <td>0</td>\n",
       "      <td>2</td>\n",
       "      <td>6</td>\n",
       "      <td>0</td>\n",
       "      <td>0</td>\n",
       "      <td>0</td>\n",
       "      <td>0</td>\n",
       "      <td>0</td>\n",
       "      <td>0</td>\n",
       "      <td>0</td>\n",
       "    </tr>\n",
       "    <tr>\n",
       "      <th>1850</th>\n",
       "      <td>4427</td>\n",
       "      <td>1995</td>\n",
       "      <td>2n Cycle</td>\n",
       "      <td>Single</td>\n",
       "      <td>83257.0</td>\n",
       "      <td>0</td>\n",
       "      <td>0</td>\n",
       "      <td>2012-09-18</td>\n",
       "      <td>56</td>\n",
       "      <td>536</td>\n",
       "      <td>...</td>\n",
       "      <td>10</td>\n",
       "      <td>12</td>\n",
       "      <td>6</td>\n",
       "      <td>1</td>\n",
       "      <td>0</td>\n",
       "      <td>1</td>\n",
       "      <td>0</td>\n",
       "      <td>0</td>\n",
       "      <td>1</td>\n",
       "      <td>1</td>\n",
       "    </tr>\n",
       "    <tr>\n",
       "      <th>2213</th>\n",
       "      <td>3661</td>\n",
       "      <td>1995</td>\n",
       "      <td>2n Cycle</td>\n",
       "      <td>Single</td>\n",
       "      <td>80617.0</td>\n",
       "      <td>0</td>\n",
       "      <td>0</td>\n",
       "      <td>2012-10-12</td>\n",
       "      <td>42</td>\n",
       "      <td>594</td>\n",
       "      <td>...</td>\n",
       "      <td>6</td>\n",
       "      <td>8</td>\n",
       "      <td>2</td>\n",
       "      <td>0</td>\n",
       "      <td>0</td>\n",
       "      <td>0</td>\n",
       "      <td>0</td>\n",
       "      <td>0</td>\n",
       "      <td>0</td>\n",
       "      <td>0</td>\n",
       "    </tr>\n",
       "    <tr>\n",
       "      <th>1170</th>\n",
       "      <td>193</td>\n",
       "      <td>1996</td>\n",
       "      <td>Basic</td>\n",
       "      <td>Married</td>\n",
       "      <td>14421.0</td>\n",
       "      <td>0</td>\n",
       "      <td>0</td>\n",
       "      <td>2014-02-17</td>\n",
       "      <td>81</td>\n",
       "      <td>0</td>\n",
       "      <td>...</td>\n",
       "      <td>0</td>\n",
       "      <td>2</td>\n",
       "      <td>5</td>\n",
       "      <td>1</td>\n",
       "      <td>0</td>\n",
       "      <td>0</td>\n",
       "      <td>0</td>\n",
       "      <td>0</td>\n",
       "      <td>0</td>\n",
       "      <td>0</td>\n",
       "    </tr>\n",
       "    <tr>\n",
       "      <th>46</th>\n",
       "      <td>9909</td>\n",
       "      <td>1996</td>\n",
       "      <td>2n Cycle</td>\n",
       "      <td>Married</td>\n",
       "      <td>7500.0</td>\n",
       "      <td>0</td>\n",
       "      <td>0</td>\n",
       "      <td>2012-11-09</td>\n",
       "      <td>24</td>\n",
       "      <td>3</td>\n",
       "      <td>...</td>\n",
       "      <td>1</td>\n",
       "      <td>3</td>\n",
       "      <td>9</td>\n",
       "      <td>0</td>\n",
       "      <td>0</td>\n",
       "      <td>0</td>\n",
       "      <td>0</td>\n",
       "      <td>0</td>\n",
       "      <td>0</td>\n",
       "      <td>1</td>\n",
       "    </tr>\n",
       "  </tbody>\n",
       "</table>\n",
       "<p>2215 rows × 27 columns</p>\n",
       "</div>"
      ],
      "text/plain": [
       "         ID  Year_Birth   Education Marital_Status   Income  Kidhome  \\\n",
       "239   11004        1893    2n Cycle         Single  60182.0        0   \n",
       "339    1150        1899         PhD       Together  83532.0        0   \n",
       "192    7829        1900    2n Cycle       Divorced  36640.0        1   \n",
       "1950   6663        1940         PhD         Single  51141.0        0   \n",
       "424    6932        1941         PhD        Married  93027.0        0   \n",
       "...     ...         ...         ...            ...      ...      ...   \n",
       "696    8315        1995  Graduation         Single  34824.0        0   \n",
       "1850   4427        1995    2n Cycle         Single  83257.0        0   \n",
       "2213   3661        1995    2n Cycle         Single  80617.0        0   \n",
       "1170    193        1996       Basic        Married  14421.0        0   \n",
       "46     9909        1996    2n Cycle        Married   7500.0        0   \n",
       "\n",
       "      Teenhome Dt_Customer  Recency  MntWines  ...  NumCatalogPurchases  \\\n",
       "239          1  2014-05-17       23         8  ...                    0   \n",
       "339          0  2013-09-26       36       755  ...                    6   \n",
       "192          0  2013-09-26       99        15  ...                    1   \n",
       "1950         0  2013-07-08       96       144  ...                    1   \n",
       "424          0  2013-04-13       77      1285  ...                   10   \n",
       "...        ...         ...      ...       ...  ...                  ...   \n",
       "696          0  2014-03-26       65         4  ...                    0   \n",
       "1850         0  2012-09-18       56       536  ...                   10   \n",
       "2213         0  2012-10-12       42       594  ...                    6   \n",
       "1170         0  2014-02-17       81         0  ...                    0   \n",
       "46           0  2012-11-09       24         3  ...                    1   \n",
       "\n",
       "      NumStorePurchases  NumWebVisitsMonth  AcceptedCmp3  AcceptedCmp4  \\\n",
       "239                   2                  4             0             0   \n",
       "339                   4                  1             0             0   \n",
       "192                   2                  5             0             0   \n",
       "1950                  4                  5             0             0   \n",
       "424                   5                  2             0             0   \n",
       "...                 ...                ...           ...           ...   \n",
       "696                   2                  6             0             0   \n",
       "1850                 12                  6             1             0   \n",
       "2213                  8                  2             0             0   \n",
       "1170                  2                  5             1             0   \n",
       "46                    3                  9             0             0   \n",
       "\n",
       "      AcceptedCmp5  AcceptedCmp1  AcceptedCmp2  Complain  Response  \n",
       "239              0             0             0         0         0  \n",
       "339              1             0             0         0         0  \n",
       "192              0             0             0         1         0  \n",
       "1950             0             0             0         0         0  \n",
       "424              1             0             0         0         0  \n",
       "...            ...           ...           ...       ...       ...  \n",
       "696              0             0             0         0         0  \n",
       "1850             1             0             0         1         1  \n",
       "2213             0             0             0         0         0  \n",
       "1170             0             0             0         0         0  \n",
       "46               0             0             0         0         1  \n",
       "\n",
       "[2215 rows x 27 columns]"
      ]
     },
     "execution_count": 16,
     "metadata": {},
     "output_type": "execute_result"
    }
   ],
   "source": [
    "# Check date on Year_birth\n",
    "data.sort_values(by=\"Year_Birth\")"
   ]
  },
  {
   "cell_type": "code",
   "execution_count": 17,
   "id": "bc93a119",
   "metadata": {},
   "outputs": [],
   "source": [
    "#Rows with axis 239, 339 and 192 have a wrong year birth data. Remove data\n",
    "data = data.drop(index=[239,339,192]).reset_index(drop=True)"
   ]
  },
  {
   "cell_type": "code",
   "execution_count": 18,
   "id": "b056337e",
   "metadata": {},
   "outputs": [
    {
     "data": {
      "text/plain": [
       "<AxesSubplot:title={'center':'Bloxplot of Year_Birth'}, xlabel='Year_Birth'>"
      ]
     },
     "execution_count": 18,
     "metadata": {},
     "output_type": "execute_result"
    },
    {
     "data": {
      "image/png": "[encoded data removed]",
      "text/plain": [
       "<Figure size 864x288 with 2 Axes>"
      ]
     },
     "metadata": {
      "needs_background": "light"
     },
     "output_type": "display_data"
    }
   ],
   "source": [
    "#Checling garphs for Year_birth\n",
    "fig, ax = plt.subplots(1, 2, figsize =(12,4))\n",
    "    \n",
    "ax[0].set_title(f'Distribution of Year_Birth')\n",
    "sns.histplot(x= data[\"Year_Birth\"], kde= True, ax=ax[0])\n",
    "    \n",
    "ax[1].set_title(f'Bloxplot of Year_Birth')\n",
    "sns.boxplot(x=data[\"Year_Birth\"], ax=ax[1])"
   ]
  },
  {
   "cell_type": "code",
   "execution_count": 19,
   "id": "0f53e3e6",
   "metadata": {
    "scrolled": true
   },
   "outputs": [
    {
     "name": "stdout",
     "output_type": "stream",
     "text": [
      "The oldest customer was born on 1940.\n",
      "The shape of the dataset after cleaning is (2212, 27).\n"
     ]
    }
   ],
   "source": [
    "#Checking birth dates\n",
    "print(f'The oldest customer was born on {data[\"Year_Birth\"].min()}.')\n",
    "print(f'The shape of the dataset after cleaning is {data.shape}.')"
   ]
  },
  {
   "cell_type": "markdown",
   "id": "db7501c5",
   "metadata": {},
   "source": [
    "## General insights of the dataset"
   ]
  },
  {
   "cell_type": "code",
   "execution_count": 21,
   "id": "94a374bc",
   "metadata": {},
   "outputs": [
    {
     "data": {
      "text/plain": [
       "Index(['ID', 'Year_Birth', 'Education', 'Marital_Status', 'Income', 'Kidhome',\n",
       "       'Teenhome', 'Dt_Customer', 'Recency', 'MntWines', 'MntFruits',\n",
       "       'MntMeatProducts', 'MntFishProducts', 'MntSweetProducts',\n",
       "       'MntGoldProds', 'NumDealsPurchases', 'NumWebPurchases',\n",
       "       'NumCatalogPurchases', 'NumStorePurchases', 'NumWebVisitsMonth',\n",
       "       'AcceptedCmp3', 'AcceptedCmp4', 'AcceptedCmp5', 'AcceptedCmp1',\n",
       "       'AcceptedCmp2', 'Complain', 'Response'],\n",
       "      dtype='object')"
      ]
     },
     "execution_count": 21,
     "metadata": {},
     "output_type": "execute_result"
    }
   ],
   "source": [
    "data.columns"
   ]
  },
  {
   "cell_type": "code",
   "execution_count": 45,
   "id": "c084e7ee",
   "metadata": {
    "scrolled": true
   },
   "outputs": [
    {
     "data": {
      "image/png": "[encoded data removed]",
      "text/plain": [
       "<Figure size 720x360 with 1 Axes>"
      ]
     },
     "metadata": {
      "needs_background": "light"
     },
     "output_type": "display_data"
    }
   ],
   "source": [
    "#Distribution customer's education levels\n",
    "plt.figure(figsize=(10,5))\n",
    "\n",
    "plt.title(\"Customer's education levels\")\n",
    "sns.histplot(data=data, x=\"Education\", shrink=0.8, stat=\"percent\");"
   ]
  },
  {
   "cell_type": "code",
   "execution_count": 43,
   "id": "c24bddb2",
   "metadata": {
    "scrolled": true
   },
   "outputs": [
    {
     "data": {
      "image/png": "[encoded data removed]",
      "text/plain": [
       "<Figure size 720x360 with 1 Axes>"
      ]
     },
     "metadata": {
      "needs_background": "light"
     },
     "output_type": "display_data"
    }
   ],
   "source": [
    "#Distribution customer's education levels\n",
    "plt.figure(figsize=(10,5))\n",
    "\n",
    "plt.title(\"Customer's Marital Status\")\n",
    "sns.histplot(data=data, x=\"Marital_Status\", shrink=0.8, stat=\"percent\");"
   ]
  },
  {
   "cell_type": "code",
   "execution_count": null,
   "id": "fec69437",
   "metadata": {},
   "outputs": [],
   "source": [
    "#compute correlation\n",
    "corr = data.corr()\n",
    "\n",
    "#Generate a mask for the upper triangle\n",
    "mask = np.triu(np.ones_like(corr, dtype=bool))\n",
    "\n",
    "# Set up the matplotlib figure\n",
    "f, ax = plt.subplots(figsize=(15,15))\n",
    "\n",
    "# Generate a custom diverging colormap\n",
    "cmap = sns.diverging_palette(230, 20, as_cmap=True)\n",
    "\n",
    "#draw heat ao\n",
    "sns.heatmap(corr, mask=mask, cmap=cmap, center=0,\n",
    "            square=True, linewidths=.5, cbar_kws={\"shrink\": .5});"
   ]
  },
  {
   "cell_type": "code",
   "execution_count": null,
   "id": "2e63b545",
   "metadata": {},
   "outputs": [],
   "source": [
    "# Shows which features are more correlated with Number of purschases\n",
    "round(np.abs(data.corr()['NumCatalogPurchases']).sort_values(ascending = False),2)"
   ]
  },
  {
   "cell_type": "code",
   "execution_count": 50,
   "id": "7f480fff",
   "metadata": {},
   "outputs": [
    {
     "data": {
      "text/html": [
       "<div>\n",
       "<style scoped>\n",
       "    .dataframe tbody tr th:only-of-type {\n",
       "        vertical-align: middle;\n",
       "    }\n",
       "\n",
       "    .dataframe tbody tr th {\n",
       "        vertical-align: top;\n",
       "    }\n",
       "\n",
       "    .dataframe thead th {\n",
       "        text-align: right;\n",
       "    }\n",
       "</style>\n",
       "<table border=\"1\" class=\"dataframe\">\n",
       "  <thead>\n",
       "    <tr style=\"text-align: right;\">\n",
       "      <th></th>\n",
       "      <th>ID</th>\n",
       "      <th>Year_Birth</th>\n",
       "      <th>Income</th>\n",
       "      <th>Kidhome</th>\n",
       "      <th>Teenhome</th>\n",
       "      <th>Recency</th>\n",
       "      <th>MntWines</th>\n",
       "      <th>MntFruits</th>\n",
       "      <th>MntMeatProducts</th>\n",
       "      <th>MntFishProducts</th>\n",
       "      <th>...</th>\n",
       "      <th>NumCatalogPurchases</th>\n",
       "      <th>NumStorePurchases</th>\n",
       "      <th>NumWebVisitsMonth</th>\n",
       "      <th>AcceptedCmp3</th>\n",
       "      <th>AcceptedCmp4</th>\n",
       "      <th>AcceptedCmp5</th>\n",
       "      <th>AcceptedCmp1</th>\n",
       "      <th>AcceptedCmp2</th>\n",
       "      <th>Complain</th>\n",
       "      <th>Response</th>\n",
       "    </tr>\n",
       "  </thead>\n",
       "  <tbody>\n",
       "    <tr>\n",
       "      <th>0</th>\n",
       "      <td>0.012312</td>\n",
       "      <td>-0.722222</td>\n",
       "      <td>0.203747</td>\n",
       "      <td>0.0</td>\n",
       "      <td>0.0</td>\n",
       "      <td>0.18</td>\n",
       "      <td>0.956341</td>\n",
       "      <td>2.580645</td>\n",
       "      <td>2.207852</td>\n",
       "      <td>3.404255</td>\n",
       "      <td>...</td>\n",
       "      <td>2.00</td>\n",
       "      <td>-0.2</td>\n",
       "      <td>0.25</td>\n",
       "      <td>0.0</td>\n",
       "      <td>0.0</td>\n",
       "      <td>0.0</td>\n",
       "      <td>0.0</td>\n",
       "      <td>0.0</td>\n",
       "      <td>0.0</td>\n",
       "      <td>1.0</td>\n",
       "    </tr>\n",
       "    <tr>\n",
       "      <th>1</th>\n",
       "      <td>-0.585422</td>\n",
       "      <td>-0.888889</td>\n",
       "      <td>-0.151462</td>\n",
       "      <td>1.0</td>\n",
       "      <td>1.0</td>\n",
       "      <td>-0.22</td>\n",
       "      <td>-0.340956</td>\n",
       "      <td>-0.225806</td>\n",
       "      <td>-0.286374</td>\n",
       "      <td>-0.212766</td>\n",
       "      <td>...</td>\n",
       "      <td>-0.25</td>\n",
       "      <td>-0.6</td>\n",
       "      <td>-0.25</td>\n",
       "      <td>0.0</td>\n",
       "      <td>0.0</td>\n",
       "      <td>0.0</td>\n",
       "      <td>0.0</td>\n",
       "      <td>0.0</td>\n",
       "      <td>0.0</td>\n",
       "      <td>0.0</td>\n",
       "    </tr>\n",
       "    <tr>\n",
       "      <th>2</th>\n",
       "      <td>-0.234454</td>\n",
       "      <td>-0.277778</td>\n",
       "      <td>0.609583</td>\n",
       "      <td>0.0</td>\n",
       "      <td>0.0</td>\n",
       "      <td>-0.46</td>\n",
       "      <td>0.521830</td>\n",
       "      <td>1.322581</td>\n",
       "      <td>0.272517</td>\n",
       "      <td>2.106383</td>\n",
       "      <td>...</td>\n",
       "      <td>0.00</td>\n",
       "      <td>1.0</td>\n",
       "      <td>-0.50</td>\n",
       "      <td>0.0</td>\n",
       "      <td>0.0</td>\n",
       "      <td>0.0</td>\n",
       "      <td>0.0</td>\n",
       "      <td>0.0</td>\n",
       "      <td>0.0</td>\n",
       "      <td>0.0</td>\n",
       "    </tr>\n",
       "    <tr>\n",
       "      <th>3</th>\n",
       "      <td>0.129717</td>\n",
       "      <td>0.777778</td>\n",
       "      <td>-0.744722</td>\n",
       "      <td>1.0</td>\n",
       "      <td>0.0</td>\n",
       "      <td>-0.46</td>\n",
       "      <td>-0.340956</td>\n",
       "      <td>-0.129032</td>\n",
       "      <td>-0.221709</td>\n",
       "      <td>-0.042553</td>\n",
       "      <td>...</td>\n",
       "      <td>-0.50</td>\n",
       "      <td>-0.2</td>\n",
       "      <td>0.00</td>\n",
       "      <td>0.0</td>\n",
       "      <td>0.0</td>\n",
       "      <td>0.0</td>\n",
       "      <td>0.0</td>\n",
       "      <td>0.0</td>\n",
       "      <td>0.0</td>\n",
       "      <td>0.0</td>\n",
       "    </tr>\n",
       "    <tr>\n",
       "      <th>4</th>\n",
       "      <td>-0.023374</td>\n",
       "      <td>0.611111</td>\n",
       "      <td>0.208415</td>\n",
       "      <td>1.0</td>\n",
       "      <td>0.0</td>\n",
       "      <td>0.90</td>\n",
       "      <td>-0.004158</td>\n",
       "      <td>1.129032</td>\n",
       "      <td>0.230947</td>\n",
       "      <td>0.723404</td>\n",
       "      <td>...</td>\n",
       "      <td>0.25</td>\n",
       "      <td>0.2</td>\n",
       "      <td>-0.25</td>\n",
       "      <td>0.0</td>\n",
       "      <td>0.0</td>\n",
       "      <td>0.0</td>\n",
       "      <td>0.0</td>\n",
       "      <td>0.0</td>\n",
       "      <td>0.0</td>\n",
       "      <td>0.0</td>\n",
       "    </tr>\n",
       "  </tbody>\n",
       "</table>\n",
       "<p>5 rows × 24 columns</p>\n",
       "</div>"
      ],
      "text/plain": [
       "         ID  Year_Birth    Income  Kidhome  Teenhome  Recency  MntWines  \\\n",
       "0  0.012312   -0.722222  0.203747      0.0       0.0     0.18  0.956341   \n",
       "1 -0.585422   -0.888889 -0.151462      1.0       1.0    -0.22 -0.340956   \n",
       "2 -0.234454   -0.277778  0.609583      0.0       0.0    -0.46  0.521830   \n",
       "3  0.129717    0.777778 -0.744722      1.0       0.0    -0.46 -0.340956   \n",
       "4 -0.023374    0.611111  0.208415      1.0       0.0     0.90 -0.004158   \n",
       "\n",
       "   MntFruits  MntMeatProducts  MntFishProducts  ...  NumCatalogPurchases  \\\n",
       "0   2.580645         2.207852         3.404255  ...                 2.00   \n",
       "1  -0.225806        -0.286374        -0.212766  ...                -0.25   \n",
       "2   1.322581         0.272517         2.106383  ...                 0.00   \n",
       "3  -0.129032        -0.221709        -0.042553  ...                -0.50   \n",
       "4   1.129032         0.230947         0.723404  ...                 0.25   \n",
       "\n",
       "   NumStorePurchases  NumWebVisitsMonth  AcceptedCmp3  AcceptedCmp4  \\\n",
       "0               -0.2               0.25           0.0           0.0   \n",
       "1               -0.6              -0.25           0.0           0.0   \n",
       "2                1.0              -0.50           0.0           0.0   \n",
       "3               -0.2               0.00           0.0           0.0   \n",
       "4                0.2              -0.25           0.0           0.0   \n",
       "\n",
       "   AcceptedCmp5  AcceptedCmp1  AcceptedCmp2  Complain  Response  \n",
       "0           0.0           0.0           0.0       0.0       1.0  \n",
       "1           0.0           0.0           0.0       0.0       0.0  \n",
       "2           0.0           0.0           0.0       0.0       0.0  \n",
       "3           0.0           0.0           0.0       0.0       0.0  \n",
       "4           0.0           0.0           0.0       0.0       0.0  \n",
       "\n",
       "[5 rows x 24 columns]"
      ]
     },
     "execution_count": 50,
     "metadata": {},
     "output_type": "execute_result"
    }
   ],
   "source": [
    "#scaling num_features\n",
    "from sklearn.preprocessing import RobustScaler\n",
    "\n",
    "scaler = RobustScaler()\n",
    "num_features_s = scaler.fit_transform(num_features)\n",
    "\n",
    "#Transform back to dataframe\n",
    "num_features_s = pd.DataFrame(num_features_s, columns=num_features.columns)\n",
    "num_features_s.head()\n"
   ]
  },
  {
   "cell_type": "code",
   "execution_count": 52,
   "id": "f70fc1d4",
   "metadata": {},
   "outputs": [],
   "source": [
    "#scaling categorical features\n",
    "\n",
    "\n",
    "from sklearn.preprocessing import OneHotEncoder\n",
    "OHE = OneHotEncoder()\n"
   ]
  },
  {
   "cell_type": "code",
   "execution_count": null,
   "id": "4fed6325",
   "metadata": {},
   "outputs": [],
   "source": []
  }
 ],
 "metadata": {
  "kernelspec": {
   "display_name": "Python 3 (ipykernel)",
   "language": "python",
   "name": "python3"
  },
  "language_info": {
   "codemirror_mode": {
    "name": "ipython",
    "version": 3
   },
   "file_extension": ".py",
   "mimetype": "text/x-python",
   "name": "python",
   "nbconvert_exporter": "python",
   "pygments_lexer": "ipython3",
   "version": "3.8.12"
  },
  "toc": {
   "base_numbering": 1,
   "nav_menu": {},
   "number_sections": true,
   "sideBar": true,
   "skip_h1_title": false,
   "title_cell": "Table of Contents",
   "title_sidebar": "Contents",
   "toc_cell": false,
   "toc_position": {},
   "toc_section_display": true,
   "toc_window_display": false
  }
 },
 "nbformat": 4,
 "nbformat_minor": 5
}
